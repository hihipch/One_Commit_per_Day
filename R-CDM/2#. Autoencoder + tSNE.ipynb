{
 "cells": [
  {
   "cell_type": "code",
   "execution_count": null,
   "metadata": {},
   "outputs": [],
   "source": [
    "import pyodbc\n",
    "#connect to mssql\n",
    "server = '128.1.99.58'\n",
    "database = 'ID_XYLITOL_WHITE'\n",
    "username = 'hihipch'\n",
    "password = 'gks1dls!'\n",
    "\n",
    "cnxn = pyodbc.connect('DRIVER={ODBC Driver 17 for SQL Server};SERVER='+server+';DATABASE='+database+';UID='+username+';PWD='+ password)\n",
    "cursor = cnxn.cursor()"
   ]
  },
  {
   "cell_type": "code",
   "execution_count": null,
   "metadata": {},
   "outputs": [],
   "source": [
    "EbrainCTquery='''\n",
    "select * from [ID_XYLITOL_WHITE].[dbo].[RADIOLOGY_image] where series_type is not null'''\n",
    "EbrainCT = pd.read_sql_query(EbrainCTquery, cnxn)"
   ]
  },
  {
   "cell_type": "code",
   "execution_count": null,
   "metadata": {},
   "outputs": [],
   "source": [
    "Elist=list(EbrainCT['file_path'])\n",
    "for i in EbrainCT['file_path']:\n",
    "    if i[0]=='H':\n",
    "        Elist.remove(i)\n",
    "EbrainCT=EbrainCT.loc[EbrainCT['file_path'].isin(Elist)]\n",
    "#Add series id to datafreme\n",
    "EbrainCT['file_path']=EbrainCT['file_path'].map(lambda x: x.replace('\\\\', '/').replace('E:/PACS/PACS', '/mount/pacs/PACS'))"
   ]
  },
  {
   "cell_type": "code",
   "execution_count": null,
   "metadata": {},
   "outputs": [],
   "source": [
    "uniqueSeriesID=np.unique(EbrainCT['series_id'])\n",
    "avg_pixel_data=[]\n",
    "\n",
    "for i in uniqueSeriesID[:100]:\n",
    "    filenameperseries=EbrainCT.loc[EbrainCT['series_id'] == i]['file_path']\n",
    "    pixel_data=[]\n",
    "    for j in filenameperseries:\n",
    "        metadata=pydicom.filereader.dcmread(str(j))\n",
    "        pixeldata=metadata.pixel_array\n",
    "        pixeldata=cv2.resize(pixeldata, (224, 224))\n",
    "        pixeldata[pixeldata < 0] = 0\n",
    "        mean, std = pixeldata.mean(), pixeldata.std()\n",
    "        regularized = (np.clip((pixeldata-mean)/std, -2.0, 2.0)+2.0)/4.0*255\n",
    "        pixeldata = regularized.astype(np.uint8)\n",
    "        try:\n",
    "            pixeldata = cv2.cvtColor(pixeldata,cv2.COLOR_GRAY2RGB)\n",
    "            mean, std = pixeldata.mean(), pixeldata.std()\n",
    "            pixel_data.append((np.clip((pixeldata-mean)/std, -2.0, 2.0)+2.0)/4.0)\n",
    "        except:\n",
    "            mean, std = pixeldata.mean(), pixeldata.std()\n",
    "            pixel_data.append((np.clip((pixeldata-mean)/std, -2.0, 2.0)+2.0)/4.0)\n",
    "    avg_pixel_data.append(np.mean(np.array(pixel_data), axis=0))"
   ]
  },
  {
   "cell_type": "code",
   "execution_count": null,
   "metadata": {},
   "outputs": [],
   "source": [
    "len(avg_pixel_data)"
   ]
  },
  {
   "cell_type": "code",
   "execution_count": null,
   "metadata": {},
   "outputs": [],
   "source": [
    "from keras.layers import Input, Dense, Conv2D, MaxPooling2D, UpSampling2D\n",
    "from keras.models import Model\n",
    "from keras import backend as K\n",
    "\n",
    "input_img = Input(shape=(224, 224, 3))  # 'channels_firtst'이미지 데이터 형식을 사용하는 경우 이를 적용\n",
    "\n",
    "x = Conv2D(16, (8, 8), activation='relu', padding='same')(input_img)\n",
    "x = MaxPooling2D((2, 2), padding='same')(x)\n",
    "x = Conv2D(16, (8, 8), activation='relu', padding='same')(x)\n",
    "x = MaxPooling2D((2, 2), padding='same')(x)\n",
    "x = Conv2D(8, (8, 8), activation='relu', padding='same')(x)\n",
    "x = MaxPooling2D((2, 2), padding='same')(x)\n",
    "x = Conv2D(4, (8, 8), activation='relu', padding='same')(x)\n",
    "x = MaxPooling2D((2, 2), padding='same')(x)\n",
    "encoded = MaxPooling2D((2, 2), padding='same')(x)\n",
    "\n",
    "encoder = Model(input_img, encoded)\n",
    "\n",
    "# 이 시점에서 표현(representatoin)은 (4,4,8) 즉, 128 차원\n",
    "\n",
    "x = UpSampling2D((2, 2))(encoded)\n",
    "x = Conv2D(4, (8, 8), activation='relu', padding='same')(x)\n",
    "x = UpSampling2D((2, 2))(x)\n",
    "x = Conv2D(8, (8, 8), activation='relu', padding='same')(x)\n",
    "x = UpSampling2D((2, 2))(x)\n",
    "x = Conv2D(16, (8, 8), activation='relu', padding='same')(x)\n",
    "x = UpSampling2D((2, 2))(x)\n",
    "x = Conv2D(16, (8, 8), activation='relu', padding='same')(x)\n",
    "x = UpSampling2D((2, 2))(x)\n",
    "decoded = Conv2D(3, (3, 3), activation='sigmoid', padding='same')(x)\n",
    "\n",
    "autoencoder = Model(input_img, decoded)\n",
    "autoencoder.compile(optimizer='adadelta', loss='binary_crossentropy')\n",
    "\n",
    "autoencoder.summary()"
   ]
  },
  {
   "cell_type": "code",
   "execution_count": null,
   "metadata": {},
   "outputs": [],
   "source": [
    "x_train=np.array(avg_pixel_data[:90])\n",
    "x_test=np.array(avg_pixel_data[90:])"
   ]
  },
  {
   "cell_type": "code",
   "execution_count": null,
   "metadata": {},
   "outputs": [],
   "source": [
    "from keras.callbacks import TensorBoard\n",
    "\n",
    "autoencoder.fit(x_train, x_train,\n",
    "                epochs=200,\n",
    "                batch_size=8,\n",
    "                shuffle=True,\n",
    "                validation_data=(x_test, x_test),\n",
    "               callbacks=[TensorBoard(log_dir='/tmp/autoencoder')])"
   ]
  },
  {
   "cell_type": "code",
   "execution_count": null,
   "metadata": {},
   "outputs": [],
   "source": [
    "decoded_imgs = autoencoder.predict(x_test)\n",
    "\n",
    "n = 10\n",
    "plt.figure(figsize=(20, 4))\n",
    "for i in range(1, n):\n",
    "    # display original\n",
    "    ax = plt.subplot(2, n, i)\n",
    "    plt.imshow(x_test[i])\n",
    "    plt.gray()\n",
    "    ax.get_xaxis().set_visible(False)\n",
    "    ax.get_yaxis().set_visible(False)\n",
    "\n",
    "    # display reconstruction\n",
    "    ax = plt.subplot(2, n, i + n)\n",
    "    plt.imshow(decoded_imgs[i])\n",
    "    plt.gray()\n",
    "    ax.get_xaxis().set_visible(False)\n",
    "    ax.get_yaxis().set_visible(False)\n",
    "plt.show()"
   ]
  },
  {
   "cell_type": "code",
   "execution_count": null,
   "metadata": {},
   "outputs": [],
   "source": [
    "encoded_imgs = encoder.predict(x_train)"
   ]
  },
  {
   "cell_type": "code",
   "execution_count": null,
   "metadata": {},
   "outputs": [],
   "source": [
    "feature=[]\n",
    "for i in encoded_imgs:\n",
    "    feature.append(i.ravel())\n",
    "feature=np.array(feature)"
   ]
  },
  {
   "cell_type": "code",
   "execution_count": null,
   "metadata": {},
   "outputs": [],
   "source": [
    "len(feature)"
   ]
  },
  {
   "cell_type": "code",
   "execution_count": null,
   "metadata": {},
   "outputs": [],
   "source": [
    "labeldf=pd.merge(pd.DataFrame({'series_id':uniqueSeriesID[:100]}), EbrainCT[['series_id', 'series_type', 'anatomical_plane']].drop_duplicates())"
   ]
  },
  {
   "cell_type": "code",
   "execution_count": null,
   "metadata": {},
   "outputs": [],
   "source": [
    "def label(row):\n",
    "    if row['series_type']=='MIP' and row['anatomical_plane']=='axial':\n",
    "        return 0\n",
    "    elif row['series_type']=='post-contrast' and row['anatomical_plane']=='axial':\n",
    "        return 1\n",
    "    elif row['series_type']=='pre-contrast' and row['anatomical_plane']=='axial':\n",
    "        return 2\n",
    "    elif row['series_type']=='MIP' and row['anatomical_plane']=='coronal':\n",
    "        return 3\n",
    "    elif row['series_type']=='pre-contrast' and row['anatomical_plane']=='coronal':\n",
    "        return 4\n",
    "    elif row['series_type']=='MIP' and row['anatomical_plane']=='sagittal':\n",
    "        return 5\n",
    "    elif row['series_type']=='topogram':\n",
    "        return 6\n",
    "    elif row['series_type']=='3D reconstruction':\n",
    "        return 7\n",
    "labeldf['label']=labeldf.apply(label, axis=1)"
   ]
  },
  {
   "cell_type": "code",
   "execution_count": null,
   "metadata": {},
   "outputs": [],
   "source": [
    "import matplotlib.pyplot as plt\n",
    "from sklearn.manifold import TSNE\n",
    "\n",
    "model = TSNE(learning_rate=100)\n",
    "transformed = model.fit_transform(feature)\n",
    "\n",
    "xs = transformed[:,0]\n",
    "ys = transformed[:,1]\n",
    "plt.scatter(xs,ys, c=np.array(labeldf['label'][:90]))\n",
    "\n",
    "plt.show()"
   ]
  },
  {
   "cell_type": "code",
   "execution_count": null,
   "metadata": {},
   "outputs": [],
   "source": []
  }
 ],
 "metadata": {
  "kernelspec": {
   "display_name": "Python 3",
   "language": "python",
   "name": "python3"
  },
  "language_info": {
   "codemirror_mode": {
    "name": "ipython",
    "version": 3
   },
   "file_extension": ".py",
   "mimetype": "text/x-python",
   "name": "python",
   "nbconvert_exporter": "python",
   "pygments_lexer": "ipython3",
   "version": "3.7.4"
  }
 },
 "nbformat": 4,
 "nbformat_minor": 2
}
