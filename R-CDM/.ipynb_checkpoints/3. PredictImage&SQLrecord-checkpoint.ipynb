{
 "cells": [
  {
   "cell_type": "code",
   "execution_count": 7,
   "metadata": {},
   "outputs": [],
   "source": [
    "#Run this on Storage server (10.5.99.50)"
   ]
  },
  {
   "cell_type": "code",
   "execution_count": null,
   "metadata": {},
   "outputs": [],
   "source": [
    "import tensorflow as tf\n",
    "from tensorflow.keras.models import Sequential\n",
    "from tensorflow.keras.layers import Dense, Conv2D, Flatten, Dropout, MaxPooling2D\n",
    "from tensorflow.keras.preprocessing.image import ImageDataGenerator\n",
    "import pandas as pd\n",
    "import numpy as np\n",
    "import pydicom\n",
    "import os\n",
    "import numpy as np\n",
    "import matplotlib.pyplot as plt\n",
    "import cv2\n",
    "import keras\n",
    "from keras.utils.np_utils import to_categorical\n",
    "from keras.models import Sequential\n",
    "from keras.layers.core import Dense, Dropout, Activation, Flatten\n",
    "from keras.layers.convolutional import Conv2D, MaxPooling2D\n",
    "from keras.optimizers import Adam\n",
    "from keras.utils import np_utils\n",
    "from keras.optimizers import Adadelta\n",
    "from keras.backend import get_session\n",
    "import pyodbc"
   ]
  },
  {
   "cell_type": "code",
   "execution_count": null,
   "metadata": {},
   "outputs": [],
   "source": [
    "#Necessary functions\n",
    "from collections import Counter \n",
    "\n",
    "def most_frequent(List): \n",
    "    occurence_count = Counter(List) \n",
    "    return occurence_count.most_common(1)[0][0]"
   ]
  },
  {
   "cell_type": "code",
   "execution_count": null,
   "metadata": {},
   "outputs": [],
   "source": [
    "#Get file path to execute branCTclassCNN\n",
    "BrainCT=pd.read_csv('C:/Users/Administrator/Desktop/ChulHyoungPark/filepath.csv')"
   ]
  },
  {
   "cell_type": "code",
   "execution_count": null,
   "metadata": {},
   "outputs": [],
   "source": [
    "#Add series id to datafreme\n",
    "BrainCT['series_id']=BrainCT['file_path'].map(lambda x: pydicom.dcmread(x).SeriesInstanceUID)"
   ]
  },
  {
   "cell_type": "code",
   "execution_count": null,
   "metadata": {},
   "outputs": [],
   "source": [
    "#Run this code in storage server to unzip image files\n",
    "for i in BrainCT[['file_path']]:\n",
    "    os.system('dcmdjpeg ' + i + ' ' + i)"
   ]
  },
  {
   "cell_type": "code",
   "execution_count": null,
   "metadata": {},
   "outputs": [],
   "source": [
    "#connect to mssql\n",
    "server = '128.1.99.58'\n",
    "database = 'ID_XYLITOL_WHITE'\n",
    "username = 'hihipch'\n",
    "password = 'gks1dls!'\n",
    "\n",
    "cnxn = pyodbc.connect('DRIVER={SQL Server};SERVER='+server+';DATABASE='+database+';UID='+username+';PWD='+ password)\n",
    "cursor = cnxn.cursor()"
   ]
  },
  {
   "cell_type": "code",
   "execution_count": null,
   "metadata": {},
   "outputs": [],
   "source": [
    "#Load model & weight from 14th server (brainCTclassCNN)\n",
    "from keras.models import model_from_json\n",
    "json_file = open(\"C:/Users/Administrator/Desktop/ChulHyoungPark/model1.json\", \"r\")\n",
    "loaded_model_json = json_file.read()\n",
    "json_file.close()\n",
    "loaded_model = model_from_json(loaded_model_json)\n",
    "\n",
    "loaded_model.load_weights(\"C:/Users/Administrator/Desktop/ChulHyoungPark/model1.h5\")\n",
    "print(\"Loaded model from disk\")"
   ]
  },
  {
   "cell_type": "code",
   "execution_count": null,
   "metadata": {},
   "outputs": [],
   "source": [
    "topogram=[]\n",
    "vrt=[]\n",
    "errorfile=[]\n",
    "for i in np.unique(BrainCT['series_id']):\n",
    "    x_train=[]\n",
    "    imageid=[]\n",
    "    for j in BrainCT.loc[BrainCT['series_id'] == i]['file_path']:\n",
    "        if len(BrainCT.loc[BrainCT['series_id'] == i]['file_path'])==1:\n",
    "            updatequery=\"update [ID_XYLITOL_WHITE].[dbo].[RADIOLOGY_IMAGE] SET series_type = 'topogram' where series_id=\"+\"'\"+i+\"'\"\n",
    "            cursor.execute(updatequery)\n",
    "            cnxn.commit()\n",
    "            topogram.append(i)\n",
    "        else:\n",
    "            metadata=pydicom.filereader.dcmread(j)\n",
    "            imageid.append(metadata.SOPInstanceUID)\n",
    "            pixeldata=metadata.pixel_array\n",
    "            pixeldata=cv2.resize(pixeldata, (224, 224))\n",
    "            if pixeldata.shape==(224, 224, 3):\n",
    "                updatequery=\"update [ID_XYLITOL_WHITE].[dbo].[RADIOLOGY_IMAGE] SET series_type = '3D reconstruction' where series_id=\"+\"'\"+i+\"'\"\n",
    "                cursor.execute(updatequery)\n",
    "                cnxn.commit()\n",
    "                vrt.append(i)\n",
    "                break\n",
    "            else:\n",
    "                pixeldata[pixeldata < 0] = 0\n",
    "                mean, std = pixeldata.mean(), pixeldata.std()\n",
    "                regularized = (np.clip((pixeldata-mean)/std, -2.0, 2.0)+2.0)/4.0*255\n",
    "                pixeldata = regularized.astype(np.uint8)\n",
    "                backtorgb = cv2.cvtColor(pixeldata,cv2.COLOR_GRAY2RGB)\n",
    "                mean, std = backtorgb.mean(), backtorgb.std()\n",
    "                regularized = (np.clip((backtorgb-mean)/std, -2.0, 2.0)+2.0)/4.0\n",
    "                x_train.append(regularized)\n",
    "    try:\n",
    "        x_train=np.array(x_train)\n",
    "        yhat_train=loaded_model.predict(x_train, batch_size=1)\n",
    "        prediction=[]\n",
    "        for k in yhat_train:\n",
    "            prediction.append(list(k).index(k.max()))\n",
    "        print(most_frequent(prediction))\n",
    "\n",
    "        if most_frequent(prediction)==0:\n",
    "            updatequery=\"update [ID_XYLITOL_WHITE].[dbo].[RADIOLOGY_IMAGE] SET series_type = 'MIP', anatomical_plane = 'axial' where series_id=\"+ \"'\"+i+\"'\"\n",
    "            cursor.execute(updatequery)\n",
    "            cnxn.commit()\n",
    "        elif most_frequent(prediction)==1:\n",
    "            updatequery=\"update [ID_XYLITOL_WHITE].[dbo].[RADIOLOGY_IMAGE] SET series_type = 'post-contrast', anatomical_plane = 'axial' where series_id=\"+\"'\"+i+\"'\"\n",
    "            cursor.execute(updatequery)\n",
    "            cnxn.commit()\n",
    "        elif most_frequent(prediction)==2:\n",
    "            updatequery=\"update [ID_XYLITOL_WHITE].[dbo].[RADIOLOGY_IMAGE] SET series_type = 'pre-contrast', anatomical_plane = 'axial' where series_id=\"+\"'\"+i+\"'\"\n",
    "            cursor.execute(updatequery)\n",
    "            cnxn.commit()\n",
    "        elif most_frequent(prediction)==3:\n",
    "            updatequery=\"update [ID_XYLITOL_WHITE].[dbo].[RADIOLOGY_IMAGE] SET series_type = 'MIP', anatomical_plane = 'coronal' where series_id=\"+\"'\"+i+\"'\"\n",
    "            cursor.execute(updatequery)\n",
    "            cnxn.commit()\n",
    "        elif most_frequent(prediction)==4:\n",
    "            updatequery=\"update [ID_XYLITOL_WHITE].[dbo].[RADIOLOGY_IMAGE] SET series_type = 'pre-contrast', anatomical_plane = 'coronal' where series_id=\"+\"'\"+i+\"'\"\n",
    "            cursor.execute(updatequery)\n",
    "            cnxn.commit()\n",
    "        elif most_frequent(prediction)==5:\n",
    "            updatequery=\"update [ID_XYLITOL_WHITE].[dbo].[RADIOLOGY_IMAGE] SET series_type = 'MIP', anatomical_plane = 'sagittal' where series_id=qwer\"+\"'\"+i+\"'\"\n",
    "            cursor.execute(updatequery)\n",
    "            cnxn.commit()\n",
    "    except:\n",
    "        errorfile.append(i)"
   ]
  }
 ],
 "metadata": {
  "kernelspec": {
   "display_name": "Python 3",
   "language": "python",
   "name": "python3"
  },
  "language_info": {
   "codemirror_mode": {
    "name": "ipython",
    "version": 3
   },
   "file_extension": ".py",
   "mimetype": "text/x-python",
   "name": "python",
   "nbconvert_exporter": "python",
   "pygments_lexer": "ipython3",
   "version": "3.7.4"
  }
 },
 "nbformat": 4,
 "nbformat_minor": 2
}
