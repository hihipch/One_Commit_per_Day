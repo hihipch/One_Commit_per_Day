{
 "cells": [
  {
   "cell_type": "code",
   "execution_count": 2,
   "metadata": {},
   "outputs": [],
   "source": [
    "from PIL import Image\n",
    "import tensorflow as tf\n",
    "from tensorflow.keras.models import Sequential\n",
    "from tensorflow.keras.layers import Dense, Conv2D, Flatten, Dropout, MaxPooling2D\n",
    "from tensorflow.keras.preprocessing.image import ImageDataGenerator\n",
    "import pandas as pd\n",
    "import numpy as np\n",
    "import pydicom\n",
    "import os\n",
    "import numpy as np\n",
    "import matplotlib.pyplot as plt\n",
    "import cv2\n",
    "import keras\n",
    "from keras.utils.np_utils import to_categorical\n",
    "from keras.models import Sequential\n",
    "from keras.layers.core import Dense, Dropout, Activation, Flatten\n",
    "from keras.layers.convolutional import Conv2D, MaxPooling2D\n",
    "from keras.optimizers import Adam\n",
    "from keras.utils import np_utils\n",
    "from keras.optimizers import Adadelta\n",
    "from keras.backend import get_session"
   ]
  },
  {
   "cell_type": "code",
   "execution_count": 3,
   "metadata": {},
   "outputs": [],
   "source": [
    "trainpng_path = '/home/hihipch/finger/fingers/train'\n",
    "trainpng_list = []\n",
    "for (path, dir, files) in os.walk(trainpng_path):\n",
    "    for filename in files:\n",
    "        ext = os.path.splitext(filename)[-1]\n",
    "        if ext == '.png':\n",
    "            filePath = \"{0}/{1}\".format(path, filename)\n",
    "            # print(filePath)\n",
    "            trainpng_list.append(filePath)"
   ]
  },
  {
   "cell_type": "code",
   "execution_count": 4,
   "metadata": {},
   "outputs": [],
   "source": [
    "R5_list=[]\n",
    "L5_list=[]\n",
    "for i in trainpng_list:\n",
    "    if i[-6]+i[-5]=='5R':\n",
    "        R5_list.append(i)\n",
    "    if i[-6]+i[-5]=='5L':\n",
    "        L5_list.append(i)"
   ]
  },
  {
   "cell_type": "code",
   "execution_count": 5,
   "metadata": {},
   "outputs": [
    {
     "name": "stdout",
     "output_type": "stream",
     "text": [
      "1500\n",
      "1500\n"
     ]
    }
   ],
   "source": [
    "print(len(R5_list))\n",
    "print(len(L5_list))"
   ]
  },
  {
   "cell_type": "code",
   "execution_count": 6,
   "metadata": {},
   "outputs": [],
   "source": [
    "###Create dataframe\n",
    "# R5=0\n",
    "# L5=1\n",
    "\n",
    "R5_df = pd.DataFrame(data={'filename': R5_list, 'label': [0 for i in range(len(R5_list))]})\n",
    "L5_df = pd.DataFrame(data={'filename': L5_list, 'label': [1 for i in range(len(L5_list))]})\n",
    "\n",
    "df=R5_df.append(L5_df)\n",
    "df.columns=['filename', 'label']\n",
    "df=df.sample(frac=1)\n",
    "df.reset_index(drop=True,inplace=True)"
   ]
  },
  {
   "cell_type": "code",
   "execution_count": 7,
   "metadata": {},
   "outputs": [],
   "source": [
    "### One hot encoding of label\n",
    "y_train = np.array(df['label'].tolist())\n",
    "y_train = keras.utils.np_utils.to_categorical(y_train)"
   ]
  },
  {
   "cell_type": "code",
   "execution_count": 8,
   "metadata": {},
   "outputs": [],
   "source": [
    "import imageio\n",
    "\n",
    "### Resizing DICOM files in the df\n",
    "x_train=[]\n",
    "\n",
    "for i in df['filename']:\n",
    "    pixeldata = imageio.imread(i)\n",
    "    mean, std = pixeldata.mean(), pixeldata.std()\n",
    "    pixeldata = (np.clip((pixeldata-mean)/std, -2.0, 2.0)+2.0)/4.0*255\n",
    "    x_train.append(pixeldata)\n",
    "x_train=np.array(x_train).reshape(3000, 128, 128, 1).astype('float32')"
   ]
  },
  {
   "cell_type": "code",
   "execution_count": 9,
   "metadata": {},
   "outputs": [],
   "source": [
    "x_val=x_train[2200:2600]\n",
    "y_val=y_train[2200:2600]\n",
    "x_test=x_train[2600:]\n",
    "y_test=y_train[2600:]"
   ]
  },
  {
   "cell_type": "code",
   "execution_count": 10,
   "metadata": {},
   "outputs": [],
   "source": [
    "x_train=x_train[:2200]\n",
    "y_train=y_train[:2200]"
   ]
  },
  {
   "cell_type": "code",
   "execution_count": 11,
   "metadata": {},
   "outputs": [
    {
     "name": "stdout",
     "output_type": "stream",
     "text": [
      "Model: \"sequential_1\"\n",
      "_________________________________________________________________\n",
      "Layer (type)                 Output Shape              Param #   \n",
      "=================================================================\n",
      "conv2d_1 (Conv2D)            (None, 121, 121, 8)       520       \n",
      "_________________________________________________________________\n",
      "max_pooling2d_1 (MaxPooling2 (None, 60, 60, 8)         0         \n",
      "_________________________________________________________________\n",
      "dropout_1 (Dropout)          (None, 60, 60, 8)         0         \n",
      "_________________________________________________________________\n",
      "conv2d_2 (Conv2D)            (None, 53, 53, 16)        8208      \n",
      "_________________________________________________________________\n",
      "max_pooling2d_2 (MaxPooling2 (None, 26, 26, 16)        0         \n",
      "_________________________________________________________________\n",
      "dropout_2 (Dropout)          (None, 26, 26, 16)        0         \n",
      "_________________________________________________________________\n",
      "conv2d_3 (Conv2D)            (None, 19, 19, 32)        32800     \n",
      "_________________________________________________________________\n",
      "max_pooling2d_3 (MaxPooling2 (None, 9, 9, 32)          0         \n",
      "_________________________________________________________________\n",
      "dropout_3 (Dropout)          (None, 9, 9, 32)          0         \n",
      "_________________________________________________________________\n",
      "flatten_1 (Flatten)          (None, 2592)              0         \n",
      "_________________________________________________________________\n",
      "dense_1 (Dense)              (None, 32)                82976     \n",
      "_________________________________________________________________\n",
      "dropout_4 (Dropout)          (None, 32)                0         \n",
      "_________________________________________________________________\n",
      "dense_2 (Dense)              (None, 2)                 66        \n",
      "=================================================================\n",
      "Total params: 124,570\n",
      "Trainable params: 124,570\n",
      "Non-trainable params: 0\n",
      "_________________________________________________________________\n"
     ]
    }
   ],
   "source": [
    "def cnn(size):\n",
    "    KERNEL = (8,8)\n",
    "    shape = (size[0], size[1], size[2])\n",
    "    \n",
    "    # Define Model\n",
    "    model = Sequential()\n",
    "    \n",
    "    # Add Convolution 1\n",
    "    model.add(Conv2D(filters=8, kernel_size=KERNEL, activation='relu', input_shape=shape))\n",
    "    \n",
    "    # Add Max Pooling\n",
    "    model.add(MaxPooling2D(pool_size=(2,2)))\n",
    "    model.add(Dropout(0.25))\n",
    "    \n",
    "    # Add Convolution 2\n",
    "    model.add(Conv2D(filters=16, kernel_size=KERNEL, activation='relu', input_shape=shape))\n",
    "    \n",
    "    # Add Max Pooling\n",
    "    model.add(MaxPooling2D(pool_size=(2,2)))\n",
    "    model.add(Dropout(0.25))\n",
    "    \n",
    "    # Add Convolution 3\n",
    "    model.add(Conv2D(filters=32, kernel_size=KERNEL, activation='relu', input_shape=shape))\n",
    "    \n",
    "    # Add Max Pooling\n",
    "    model.add(MaxPooling2D(pool_size=(2,2)))\n",
    "    model.add(Dropout(0.25))\n",
    "    model.add(Flatten())\n",
    "    model.add(Dense(units=32, activation='relu'))\n",
    "    \n",
    "    # Add Output Layer\n",
    "    model.add(Dropout(0.5))\n",
    "    model.add(Dense(units=2, activation='softmax'))\n",
    "    \n",
    "    # Compile the model\n",
    "    model.compile(loss='binary_crossentropy', optimizer=Adadelta(), metrics=['accuracy'])\n",
    "    model.summary()\n",
    "    \n",
    "    return model\n",
    "\n",
    "model = cnn(size=x_train.shape[1:])"
   ]
  },
  {
   "cell_type": "code",
   "execution_count": 12,
   "metadata": {},
   "outputs": [
    {
     "name": "stdout",
     "output_type": "stream",
     "text": [
      "WARNING:tensorflow:From /usr/local/lib/python3.6/dist-packages/tensorflow/python/ops/math_grad.py:1250: add_dispatch_support.<locals>.wrapper (from tensorflow.python.ops.array_ops) is deprecated and will be removed in a future version.\n",
      "Instructions for updating:\n",
      "Use tf.where in 2.0, which has the same broadcast rule as np.where\n",
      "Train on 2200 samples, validate on 400 samples\n",
      "Epoch 1/50\n",
      "2200/2200 [==============================] - 3s 1ms/step - loss: 5.7627 - accuracy: 0.5950 - val_loss: 0.0025 - val_accuracy: 1.0000\n",
      "Epoch 2/50\n",
      "2200/2200 [==============================] - 1s 604us/step - loss: 0.0317 - accuracy: 0.9927 - val_loss: 2.3974e-05 - val_accuracy: 1.0000\n",
      "Epoch 3/50\n",
      "2200/2200 [==============================] - 1s 606us/step - loss: 0.0043 - accuracy: 0.9982 - val_loss: 9.6299e-06 - val_accuracy: 1.0000\n",
      "Epoch 4/50\n",
      "2200/2200 [==============================] - 1s 607us/step - loss: 4.9772e-04 - accuracy: 1.0000 - val_loss: 0.0000e+00 - val_accuracy: 1.0000\n",
      "Epoch 5/50\n",
      "2200/2200 [==============================] - 1s 611us/step - loss: 0.0102 - accuracy: 0.9982 - val_loss: 0.0000e+00 - val_accuracy: 1.0000\n",
      "Epoch 6/50\n",
      "2200/2200 [==============================] - 1s 604us/step - loss: 0.0020 - accuracy: 0.9995 - val_loss: 1.4901e-09 - val_accuracy: 1.0000\n",
      "Epoch 7/50\n",
      "2200/2200 [==============================] - 1s 601us/step - loss: 0.0137 - accuracy: 0.9973 - val_loss: 0.0000e+00 - val_accuracy: 1.0000\n",
      "Epoch 8/50\n",
      "2200/2200 [==============================] - 1s 618us/step - loss: 0.0043 - accuracy: 0.9991 - val_loss: 1.4156e-09 - val_accuracy: 1.0000\n",
      "Epoch 9/50\n",
      "2200/2200 [==============================] - 1s 623us/step - loss: 4.0244e-04 - accuracy: 1.0000 - val_loss: 0.0000e+00 - val_accuracy: 1.0000\n",
      "Epoch 10/50\n",
      "2200/2200 [==============================] - 1s 615us/step - loss: 3.1556e-06 - accuracy: 1.0000 - val_loss: 0.0000e+00 - val_accuracy: 1.0000\n",
      "Epoch 11/50\n",
      "2200/2200 [==============================] - 1s 615us/step - loss: 3.7904e-08 - accuracy: 1.0000 - val_loss: 0.0000e+00 - val_accuracy: 1.0000\n",
      "Epoch 12/50\n",
      "2200/2200 [==============================] - 1s 613us/step - loss: 0.0071 - accuracy: 0.9995 - val_loss: 0.0000e+00 - val_accuracy: 1.0000\n",
      "Epoch 13/50\n",
      "2200/2200 [==============================] - 1s 631us/step - loss: 0.0074 - accuracy: 0.9991 - val_loss: 0.0000e+00 - val_accuracy: 1.0000\n",
      "Epoch 14/50\n",
      "2200/2200 [==============================] - 1s 616us/step - loss: 2.9817e-05 - accuracy: 1.0000 - val_loss: 0.0000e+00 - val_accuracy: 1.0000\n",
      "Epoch 15/50\n",
      "2200/2200 [==============================] - 1s 625us/step - loss: 3.7923e-04 - accuracy: 0.9995 - val_loss: 0.0000e+00 - val_accuracy: 1.0000\n",
      "Epoch 16/50\n",
      "2200/2200 [==============================] - 1s 609us/step - loss: 1.3987e-04 - accuracy: 1.0000 - val_loss: 0.0000e+00 - val_accuracy: 1.0000\n",
      "Epoch 17/50\n",
      "2200/2200 [==============================] - 1s 610us/step - loss: 4.7448e-07 - accuracy: 1.0000 - val_loss: 0.0000e+00 - val_accuracy: 1.0000\n",
      "Epoch 18/50\n",
      "2200/2200 [==============================] - 1s 618us/step - loss: 0.0105 - accuracy: 0.9986 - val_loss: 0.0000e+00 - val_accuracy: 1.0000\n",
      "Epoch 19/50\n",
      "2200/2200 [==============================] - 1s 614us/step - loss: 3.1906e-04 - accuracy: 0.9995 - val_loss: 0.0000e+00 - val_accuracy: 1.0000\n",
      "Epoch 20/50\n",
      "2200/2200 [==============================] - 1s 614us/step - loss: 1.4789e-05 - accuracy: 1.0000 - val_loss: 0.0000e+00 - val_accuracy: 1.0000\n",
      "Epoch 21/50\n",
      "2200/2200 [==============================] - 1s 610us/step - loss: 7.5283e-08 - accuracy: 1.0000 - val_loss: 0.0000e+00 - val_accuracy: 1.0000\n",
      "Epoch 22/50\n",
      "2200/2200 [==============================] - 1s 617us/step - loss: 0.0061 - accuracy: 0.9986 - val_loss: 0.0000e+00 - val_accuracy: 1.0000\n",
      "Epoch 23/50\n",
      "2200/2200 [==============================] - 1s 621us/step - loss: 0.0018 - accuracy: 0.9991 - val_loss: 0.0000e+00 - val_accuracy: 1.0000\n",
      "Epoch 24/50\n",
      "2200/2200 [==============================] - 1s 618us/step - loss: 0.0068 - accuracy: 0.9995 - val_loss: 0.0000e+00 - val_accuracy: 1.0000\n",
      "Epoch 25/50\n",
      "2200/2200 [==============================] - 1s 624us/step - loss: 2.6184e-05 - accuracy: 1.0000 - val_loss: 0.0000e+00 - val_accuracy: 1.0000\n",
      "Epoch 26/50\n",
      "2200/2200 [==============================] - 1s 621us/step - loss: 3.7930e-10 - accuracy: 1.0000 - val_loss: 0.0000e+00 - val_accuracy: 1.0000\n",
      "Epoch 27/50\n",
      "2200/2200 [==============================] - 1s 608us/step - loss: 1.6607e-05 - accuracy: 1.0000 - val_loss: 0.0000e+00 - val_accuracy: 1.0000\n",
      "Epoch 28/50\n",
      "2200/2200 [==============================] - 1s 607us/step - loss: 2.3654e-05 - accuracy: 1.0000 - val_loss: 0.0000e+00 - val_accuracy: 1.0000\n",
      "Epoch 29/50\n",
      "2200/2200 [==============================] - 1s 621us/step - loss: 2.3504e-08 - accuracy: 1.0000 - val_loss: 0.0000e+00 - val_accuracy: 1.0000\n",
      "Epoch 30/50\n",
      "2200/2200 [==============================] - 1s 620us/step - loss: 1.5836e-08 - accuracy: 1.0000 - val_loss: 0.0000e+00 - val_accuracy: 1.0000\n",
      "Epoch 31/50\n",
      "2200/2200 [==============================] - 1s 615us/step - loss: 1.3686e-06 - accuracy: 1.0000 - val_loss: 0.0000e+00 - val_accuracy: 1.0000\n",
      "Epoch 32/50\n",
      "2200/2200 [==============================] - 1s 616us/step - loss: 6.0409e-06 - accuracy: 1.0000 - val_loss: 0.0000e+00 - val_accuracy: 1.0000\n",
      "Epoch 33/50\n",
      "2200/2200 [==============================] - 1s 620us/step - loss: 5.1344e-08 - accuracy: 1.0000 - val_loss: 0.0000e+00 - val_accuracy: 1.0000\n",
      "Epoch 34/50\n",
      "2200/2200 [==============================] - 1s 614us/step - loss: 0.0000e+00 - accuracy: 1.0000 - val_loss: 0.0000e+00 - val_accuracy: 1.0000\n",
      "Epoch 35/50\n",
      "2200/2200 [==============================] - 1s 616us/step - loss: 1.4102e-06 - accuracy: 1.0000 - val_loss: 0.0000e+00 - val_accuracy: 1.0000\n",
      "Epoch 36/50\n",
      "2200/2200 [==============================] - 1s 605us/step - loss: 0.0015 - accuracy: 0.9995 - val_loss: 0.0000e+00 - val_accuracy: 1.0000\n",
      "Epoch 37/50\n",
      "2200/2200 [==============================] - 1s 614us/step - loss: 1.1238e-04 - accuracy: 1.0000 - val_loss: 0.0000e+00 - val_accuracy: 1.0000\n",
      "Epoch 38/50\n",
      "2200/2200 [==============================] - 1s 626us/step - loss: 3.1704e-04 - accuracy: 1.0000 - val_loss: 0.0000e+00 - val_accuracy: 1.0000\n",
      "Epoch 39/50\n",
      "2200/2200 [==============================] - 1s 617us/step - loss: 5.7031e-09 - accuracy: 1.0000 - val_loss: 0.0000e+00 - val_accuracy: 1.0000\n",
      "Epoch 40/50\n",
      "2200/2200 [==============================] - 1s 621us/step - loss: 4.0640e-11 - accuracy: 1.0000 - val_loss: 0.0000e+00 - val_accuracy: 1.0000\n",
      "Epoch 41/50\n",
      "2200/2200 [==============================] - 1s 620us/step - loss: 3.1794e-04 - accuracy: 0.9995 - val_loss: 0.0000e+00 - val_accuracy: 1.0000\n",
      "Epoch 42/50\n",
      "2200/2200 [==============================] - 1s 614us/step - loss: 3.1730e-04 - accuracy: 0.9995 - val_loss: 0.0000e+00 - val_accuracy: 1.0000\n",
      "Epoch 43/50\n",
      "2200/2200 [==============================] - 1s 617us/step - loss: 3.1350e-04 - accuracy: 1.0000 - val_loss: 0.0000e+00 - val_accuracy: 1.0000\n",
      "Epoch 44/50\n",
      "2200/2200 [==============================] - 1s 620us/step - loss: 7.0442e-10 - accuracy: 1.0000 - val_loss: 0.0000e+00 - val_accuracy: 1.0000\n",
      "Epoch 45/50\n",
      "2200/2200 [==============================] - 1s 614us/step - loss: 0.0000e+00 - accuracy: 1.0000 - val_loss: 0.0000e+00 - val_accuracy: 1.0000\n",
      "Epoch 46/50\n",
      "2200/2200 [==============================] - 1s 610us/step - loss: 6.8947e-06 - accuracy: 1.0000 - val_loss: 0.0000e+00 - val_accuracy: 1.0000\n",
      "Epoch 47/50\n",
      "2200/2200 [==============================] - 1s 615us/step - loss: 0.0070 - accuracy: 0.9995 - val_loss: 0.0000e+00 - val_accuracy: 1.0000\n",
      "Epoch 48/50\n",
      "2200/2200 [==============================] - 1s 615us/step - loss: 3.7222e-04 - accuracy: 0.9995 - val_loss: 0.0000e+00 - val_accuracy: 1.0000\n",
      "Epoch 49/50\n",
      "2200/2200 [==============================] - 1s 609us/step - loss: 0.0034 - accuracy: 0.9995 - val_loss: 0.0000e+00 - val_accuracy: 1.0000\n",
      "Epoch 50/50\n",
      "2200/2200 [==============================] - 1s 620us/step - loss: 2.6170e-04 - accuracy: 1.0000 - val_loss: 0.0000e+00 - val_accuracy: 1.0000\n"
     ]
    }
   ],
   "source": [
    "hist = model.fit(x_train, y_train, epochs=50, batch_size=16, validation_data=(x_val, y_val))"
   ]
  },
  {
   "cell_type": "code",
   "execution_count": 13,
   "metadata": {},
   "outputs": [
    {
     "name": "stdout",
     "output_type": "stream",
     "text": [
      "400/400 [==============================] - 0s 358us/step\n",
      "loss= 0.0\n",
      "accuracy= 1.0\n"
     ]
    }
   ],
   "source": [
    "# 테스트 데이터로 평가하기\n",
    "score = model.evaluate(x_test, y_test, verbose=1)\n",
    "print('loss=', score[0])\n",
    "print('accuracy=', score[1])"
   ]
  },
  {
   "cell_type": "code",
   "execution_count": 14,
   "metadata": {},
   "outputs": [],
   "source": [
    "### One hot encoding of label\n",
    "y_train = np.array(df['label'].tolist())\n",
    "y_train = keras.utils.np_utils.to_categorical(y_train)"
   ]
  },
  {
   "cell_type": "code",
   "execution_count": 15,
   "metadata": {},
   "outputs": [],
   "source": [
    "import imageio\n",
    "\n",
    "### Resizing DICOM files in the df\n",
    "x_train=[]\n",
    "\n",
    "for i in df['filename']:\n",
    "    pixeldata = imageio.imread(i)\n",
    "    mean, std = pixeldata.mean(), pixeldata.std()\n",
    "    pixeldata = (np.clip((pixeldata-mean)/std, -2.0, 2.0)+2.0)/4.0*255\n",
    "    pixeldata = pixeldata.astype(np.uint8)\n",
    "    pixeldata = cv2.cvtColor(pixeldata,cv2.COLOR_GRAY2RGB)\n",
    "    x_train.append(pixeldata)\n",
    "x_train=np.array(x_train)"
   ]
  },
  {
   "cell_type": "code",
   "execution_count": 16,
   "metadata": {},
   "outputs": [
    {
     "data": {
      "text/plain": [
       "3000"
      ]
     },
     "execution_count": 16,
     "metadata": {},
     "output_type": "execute_result"
    }
   ],
   "source": [
    "len(df['filename'])"
   ]
  },
  {
   "cell_type": "code",
   "execution_count": 17,
   "metadata": {},
   "outputs": [],
   "source": [
    "x_val=x_train[2200:2600]\n",
    "y_val=y_train[2200:2600]\n",
    "x_test=x_train[2600:]\n",
    "y_test=y_train[2600:]"
   ]
  },
  {
   "cell_type": "code",
   "execution_count": 18,
   "metadata": {},
   "outputs": [],
   "source": [
    "x_train=x_train[:2200]\n",
    "y_train=y_train[:2200]"
   ]
  },
  {
   "cell_type": "code",
   "execution_count": 19,
   "metadata": {},
   "outputs": [],
   "source": [
    "from keras.applications import ResNet50\n",
    "from keras.layers import Dense, Input, Activation, Concatenate, Flatten\n",
    "from keras.models import Model\n",
    "from keras.callbacks import EarlyStopping\n",
    "from keras import optimizers\n",
    "from keras.preprocessing.image import ImageDataGenerator\n",
    "from keras.layers.normalization import BatchNormalization\n",
    "from keras.optimizers import Adadelta, SGD, Nadam\n",
    "\n",
    "num_classes=2\n",
    "input_shape=(128, 128, 3)\n",
    "\n",
    "resnetmodel = ResNet50(include_top=False,\n",
    "                            weights='imagenet',\n",
    "                            input_shape=input_shape, pooling='avg')\n",
    "\n",
    "x = Dense(num_classes, activation='softmax', name='predictions')(resnetmodel.output)\n",
    "\n",
    "resnetmodel = Model(resnetmodel.input, x)\n",
    "\n",
    "sgd = SGD(lr=1e-3, decay=1e-6, momentum=0.9, nesterov=True)\n",
    "resnetmodel.compile(optimizer=sgd, loss='binary_crossentropy', metrics=['accuracy'])"
   ]
  },
  {
   "cell_type": "code",
   "execution_count": 21,
   "metadata": {},
   "outputs": [
    {
     "name": "stdout",
     "output_type": "stream",
     "text": [
      "Train on 2200 samples, validate on 400 samples\n",
      "Epoch 1/50\n",
      "2200/2200 [==============================] - 44s 20ms/step - loss: 0.0342 - accuracy: 0.9891 - val_loss: 3.3435e-04 - val_accuracy: 1.0000\n",
      "Epoch 2/50\n",
      "2200/2200 [==============================] - 22s 10ms/step - loss: 0.0013 - accuracy: 1.0000 - val_loss: 9.7403e-05 - val_accuracy: 1.0000\n",
      "Epoch 3/50\n",
      "2200/2200 [==============================] - 22s 10ms/step - loss: 8.7706e-04 - accuracy: 1.0000 - val_loss: 2.0571e-04 - val_accuracy: 1.0000\n",
      "Epoch 4/50\n",
      "2200/2200 [==============================] - 22s 10ms/step - loss: 4.3459e-04 - accuracy: 1.0000 - val_loss: 6.8026e-05 - val_accuracy: 1.0000\n",
      "Epoch 5/50\n",
      "2200/2200 [==============================] - 22s 10ms/step - loss: 6.1163e-04 - accuracy: 1.0000 - val_loss: 5.1045e-05 - val_accuracy: 1.0000\n",
      "Epoch 6/50\n",
      "2200/2200 [==============================] - 22s 10ms/step - loss: 4.2036e-04 - accuracy: 1.0000 - val_loss: 3.5670e-05 - val_accuracy: 1.0000\n",
      "Epoch 7/50\n",
      "2200/2200 [==============================] - 22s 10ms/step - loss: 3.2082e-04 - accuracy: 1.0000 - val_loss: 2.7034e-05 - val_accuracy: 1.0000\n",
      "Epoch 8/50\n",
      "2200/2200 [==============================] - 22s 10ms/step - loss: 1.9372e-04 - accuracy: 1.0000 - val_loss: 2.5557e-05 - val_accuracy: 1.0000\n",
      "Epoch 9/50\n",
      "2200/2200 [==============================] - 22s 10ms/step - loss: 2.5979e-04 - accuracy: 1.0000 - val_loss: 2.4167e-05 - val_accuracy: 1.0000\n",
      "Epoch 10/50\n",
      "2200/2200 [==============================] - 22s 10ms/step - loss: 1.6616e-04 - accuracy: 1.0000 - val_loss: 1.9617e-05 - val_accuracy: 1.0000\n",
      "Epoch 11/50\n",
      "2200/2200 [==============================] - 22s 10ms/step - loss: 1.4216e-04 - accuracy: 1.0000 - val_loss: 1.7458e-05 - val_accuracy: 1.0000\n",
      "Epoch 12/50\n",
      "2200/2200 [==============================] - 22s 10ms/step - loss: 4.1657e-04 - accuracy: 1.0000 - val_loss: 2.4757e-05 - val_accuracy: 1.0000\n",
      "Epoch 13/50\n",
      "2200/2200 [==============================] - 22s 10ms/step - loss: 1.1625e-04 - accuracy: 1.0000 - val_loss: 1.5312e-05 - val_accuracy: 1.0000\n",
      "Epoch 14/50\n",
      "2200/2200 [==============================] - 22s 10ms/step - loss: 1.2037e-04 - accuracy: 1.0000 - val_loss: 1.3464e-05 - val_accuracy: 1.0000\n",
      "Epoch 15/50\n",
      "2200/2200 [==============================] - 22s 10ms/step - loss: 9.9272e-05 - accuracy: 1.0000 - val_loss: 1.2052e-05 - val_accuracy: 1.0000\n",
      "Epoch 16/50\n",
      "2200/2200 [==============================] - 22s 10ms/step - loss: 2.9811e-04 - accuracy: 1.0000 - val_loss: 1.0659e-05 - val_accuracy: 1.0000\n",
      "Epoch 17/50\n",
      "2200/2200 [==============================] - 22s 10ms/step - loss: 1.0979e-04 - accuracy: 1.0000 - val_loss: 9.6607e-06 - val_accuracy: 1.0000\n",
      "Epoch 18/50\n",
      "2200/2200 [==============================] - 22s 10ms/step - loss: 2.6895e-04 - accuracy: 1.0000 - val_loss: 8.5307e-06 - val_accuracy: 1.0000\n",
      "Epoch 19/50\n",
      "2200/2200 [==============================] - 22s 10ms/step - loss: 1.1967e-04 - accuracy: 1.0000 - val_loss: 8.2782e-06 - val_accuracy: 1.0000\n",
      "Epoch 20/50\n",
      "2200/2200 [==============================] - 22s 10ms/step - loss: 6.4745e-05 - accuracy: 1.0000 - val_loss: 7.8952e-06 - val_accuracy: 1.0000\n",
      "Epoch 21/50\n",
      "2200/2200 [==============================] - 22s 10ms/step - loss: 2.6784e-04 - accuracy: 1.0000 - val_loss: 8.6376e-06 - val_accuracy: 1.0000\n",
      "Epoch 22/50\n",
      "2200/2200 [==============================] - 22s 10ms/step - loss: 7.9659e-05 - accuracy: 1.0000 - val_loss: 7.6001e-06 - val_accuracy: 1.0000\n",
      "Epoch 23/50\n",
      "2200/2200 [==============================] - 22s 10ms/step - loss: 1.1504e-04 - accuracy: 1.0000 - val_loss: 6.8198e-06 - val_accuracy: 1.0000\n",
      "Epoch 24/50\n",
      "2200/2200 [==============================] - 22s 10ms/step - loss: 9.3423e-05 - accuracy: 1.0000 - val_loss: 6.1105e-06 - val_accuracy: 1.0000\n",
      "Epoch 25/50\n",
      "2200/2200 [==============================] - 22s 10ms/step - loss: 8.2247e-05 - accuracy: 1.0000 - val_loss: 5.7905e-06 - val_accuracy: 1.0000\n",
      "Epoch 26/50\n",
      "2200/2200 [==============================] - 22s 10ms/step - loss: 6.6031e-05 - accuracy: 1.0000 - val_loss: 6.2533e-06 - val_accuracy: 1.0000\n",
      "Epoch 27/50\n",
      "2200/2200 [==============================] - 22s 10ms/step - loss: 3.4750e-04 - accuracy: 1.0000 - val_loss: 6.1477e-06 - val_accuracy: 1.0000\n",
      "Epoch 28/50\n",
      "2200/2200 [==============================] - 22s 10ms/step - loss: 1.5400e-04 - accuracy: 1.0000 - val_loss: 9.9356e-06 - val_accuracy: 1.0000\n",
      "Epoch 29/50\n",
      "2200/2200 [==============================] - 22s 10ms/step - loss: 6.3127e-05 - accuracy: 1.0000 - val_loss: 5.9118e-06 - val_accuracy: 1.0000\n",
      "Epoch 30/50\n",
      "2200/2200 [==============================] - 22s 10ms/step - loss: 6.7402e-05 - accuracy: 1.0000 - val_loss: 5.0004e-06 - val_accuracy: 1.0000\n",
      "Epoch 31/50\n",
      "2200/2200 [==============================] - 22s 10ms/step - loss: 2.5902e-04 - accuracy: 1.0000 - val_loss: 4.6260e-06 - val_accuracy: 1.0000\n",
      "Epoch 32/50\n",
      "2200/2200 [==============================] - 22s 10ms/step - loss: 1.6713e-04 - accuracy: 1.0000 - val_loss: 3.9584e-06 - val_accuracy: 1.0000\n",
      "Epoch 33/50\n",
      "2200/2200 [==============================] - 22s 10ms/step - loss: 5.5555e-05 - accuracy: 1.0000 - val_loss: 3.4595e-06 - val_accuracy: 1.0000\n",
      "Epoch 34/50\n",
      "2200/2200 [==============================] - 22s 10ms/step - loss: 7.2503e-05 - accuracy: 1.0000 - val_loss: 3.2139e-06 - val_accuracy: 1.0000\n",
      "Epoch 35/50\n",
      "2200/2200 [==============================] - 22s 10ms/step - loss: 6.4109e-05 - accuracy: 1.0000 - val_loss: 3.1404e-06 - val_accuracy: 1.0000\n",
      "Epoch 36/50\n",
      "2200/2200 [==============================] - 22s 10ms/step - loss: 3.1782e-05 - accuracy: 1.0000 - val_loss: 3.1516e-06 - val_accuracy: 1.0000\n",
      "Epoch 37/50\n",
      "2200/2200 [==============================] - 22s 10ms/step - loss: 5.0310e-05 - accuracy: 1.0000 - val_loss: 3.1171e-06 - val_accuracy: 1.0000\n",
      "Epoch 38/50\n",
      "2200/2200 [==============================] - 22s 10ms/step - loss: 6.3046e-05 - accuracy: 1.0000 - val_loss: 2.7356e-06 - val_accuracy: 1.0000\n",
      "Epoch 39/50\n",
      "2200/2200 [==============================] - 22s 10ms/step - loss: 7.6703e-05 - accuracy: 1.0000 - val_loss: 2.6060e-06 - val_accuracy: 1.0000\n",
      "Epoch 40/50\n",
      "2200/2200 [==============================] - 22s 10ms/step - loss: 2.3035e-05 - accuracy: 1.0000 - val_loss: 2.6989e-06 - val_accuracy: 1.0000\n",
      "Epoch 41/50\n",
      "2200/2200 [==============================] - 22s 10ms/step - loss: 3.9703e-05 - accuracy: 1.0000 - val_loss: 2.4755e-06 - val_accuracy: 1.0000\n",
      "Epoch 42/50\n",
      "2200/2200 [==============================] - 22s 10ms/step - loss: 2.1646e-05 - accuracy: 1.0000 - val_loss: 2.5245e-06 - val_accuracy: 1.0000\n",
      "Epoch 43/50\n",
      "2200/2200 [==============================] - 22s 10ms/step - loss: 4.2100e-05 - accuracy: 1.0000 - val_loss: 2.2385e-06 - val_accuracy: 1.0000\n",
      "Epoch 44/50\n",
      "2200/2200 [==============================] - 22s 10ms/step - loss: 4.5916e-05 - accuracy: 1.0000 - val_loss: 2.1537e-06 - val_accuracy: 1.0000\n",
      "Epoch 45/50\n",
      "2200/2200 [==============================] - 22s 10ms/step - loss: 2.3661e-05 - accuracy: 1.0000 - val_loss: 2.1826e-06 - val_accuracy: 1.0000\n",
      "Epoch 46/50\n",
      "2200/2200 [==============================] - 22s 10ms/step - loss: 2.3793e-05 - accuracy: 1.0000 - val_loss: 2.2204e-06 - val_accuracy: 1.0000\n",
      "Epoch 47/50\n",
      "2200/2200 [==============================] - 22s 10ms/step - loss: 2.4832e-05 - accuracy: 1.0000 - val_loss: 2.1169e-06 - val_accuracy: 1.0000\n",
      "Epoch 48/50\n",
      "2200/2200 [==============================] - 22s 10ms/step - loss: 2.6356e-05 - accuracy: 1.0000 - val_loss: 2.1090e-06 - val_accuracy: 1.0000\n",
      "Epoch 49/50\n",
      "2200/2200 [==============================] - 22s 10ms/step - loss: 2.8224e-05 - accuracy: 1.0000 - val_loss: 1.9835e-06 - val_accuracy: 1.0000\n",
      "Epoch 50/50\n",
      "2200/2200 [==============================] - 22s 10ms/step - loss: 2.8774e-05 - accuracy: 1.0000 - val_loss: 1.9195e-06 - val_accuracy: 1.0000\n"
     ]
    }
   ],
   "source": [
    "hist = resnetmodel.fit(x_train, y_train, epochs=50, batch_size=16, validation_data=(x_val, y_val))"
   ]
  },
  {
   "cell_type": "code",
   "execution_count": null,
   "metadata": {},
   "outputs": [],
   "source": []
  }
 ],
 "metadata": {
  "kernelspec": {
   "display_name": "Python 3",
   "language": "python",
   "name": "python3"
  },
  "language_info": {
   "codemirror_mode": {
    "name": "ipython",
    "version": 3
   },
   "file_extension": ".py",
   "mimetype": "text/x-python",
   "name": "python",
   "nbconvert_exporter": "python",
   "pygments_lexer": "ipython3",
   "version": "3.6.9"
  }
 },
 "nbformat": 4,
 "nbformat_minor": 4
}
