{
 "cells": [
  {
   "cell_type": "code",
   "execution_count": null,
   "metadata": {},
   "outputs": [],
   "source": [
    "#Run this on 'http://14pyg.abmi.kr/user/hihipch/lab?' server"
   ]
  },
  {
   "cell_type": "code",
   "execution_count": 36,
   "metadata": {},
   "outputs": [],
   "source": [
    "import os\n",
    "import pydicom\n",
    "import matplotlib.pyplot as plt\n",
    "import pandas as pd\n",
    "import numpy as np\n",
    "import cv2\n",
    "import keras\n",
    "from keras.utils.np_utils import to_categorical\n",
    "from keras.models import Sequential\n",
    "from keras.layers.core import Dense, Dropout, Activation, Flatten\n",
    "from keras.layers.convolutional import Conv2D, MaxPooling2D\n",
    "from keras.optimizers import Adam\n",
    "from keras.utils import np_utils\n",
    "from keras.optimizers import Adadelta\n",
    "from keras.backend import get_session\n",
    "from keras.preprocessing.image import ImageDataGenerator"
   ]
  },
  {
   "cell_type": "code",
   "execution_count": 37,
   "metadata": {},
   "outputs": [],
   "source": [
    "# For frontXray\n",
    "frontXray_path = '/home/hihipch/SkullSegmentation/image/front' \n",
    "frontXray_list = []\n",
    "for (path, dir, files) in os.walk(frontXray_path):\n",
    "    for filename in files:\n",
    "        ext = os.path.splitext(filename)[-1]\n",
    "        if ext == '.dcm':\n",
    "            filePath = \"{0}/{1}\".format(path, filename)\n",
    "            # print(filePath)\n",
    "            frontXray_list.append(filePath)"
   ]
  },
  {
   "cell_type": "code",
   "execution_count": 38,
   "metadata": {},
   "outputs": [],
   "source": [
    "# For upXray\n",
    "upXray_path = '/home/hihipch/SkullSegmentation/image/up' \n",
    "upXray_list = []\n",
    "for (path, dir, files) in os.walk(upXray_path):\n",
    "    for filename in files:\n",
    "        ext = os.path.splitext(filename)[-1]\n",
    "        if ext == '.dcm':\n",
    "            filePath = \"{0}/{1}\".format(path, filename)\n",
    "            # print(filePath)\n",
    "            upXray_list.append(filePath)"
   ]
  },
  {
   "cell_type": "code",
   "execution_count": 39,
   "metadata": {},
   "outputs": [],
   "source": [
    "# For leftXray\n",
    "leftXray_path = '/home/hihipch/SkullSegmentation/image/left' \n",
    "leftXray_list = []\n",
    "for (path, dir, files) in os.walk(leftXray_path):\n",
    "    for filename in files:\n",
    "        ext = os.path.splitext(filename)[-1]\n",
    "        if ext == '.dcm':\n",
    "            filePath = \"{0}/{1}\".format(path, filename)\n",
    "            # print(filePath)\n",
    "            leftXray_list.append(filePath)"
   ]
  },
  {
   "cell_type": "code",
   "execution_count": 40,
   "metadata": {},
   "outputs": [],
   "source": [
    "# For rightXray\n",
    "rightXray_path = '/home/hihipch/SkullSegmentation/image/right' \n",
    "rightXray_list = []\n",
    "for (path, dir, files) in os.walk(rightXray_path):\n",
    "    for filename in files:\n",
    "        ext = os.path.splitext(filename)[-1]\n",
    "        if ext == '.dcm':\n",
    "            filePath = \"{0}/{1}\".format(path, filename)\n",
    "            # print(filePath)\n",
    "            rightXray_list.append(filePath)"
   ]
  },
  {
   "cell_type": "code",
   "execution_count": 41,
   "metadata": {},
   "outputs": [
    {
     "name": "stdout",
     "output_type": "stream",
     "text": [
      "181\n",
      "181\n",
      "181\n",
      "181\n"
     ]
    }
   ],
   "source": [
    "print(len(frontXray_list))\n",
    "print(len(upXray_list))\n",
    "print(len(leftXray_list))\n",
    "print(len(rightXray_list))"
   ]
  },
  {
   "cell_type": "code",
   "execution_count": 42,
   "metadata": {},
   "outputs": [],
   "source": [
    "### Create dataframe\n",
    "# frontXray_list = 0\n",
    "# upXray_list = 1\n",
    "# leftXray_list = 2\n",
    "# rightXray_list = 3\n",
    "\n",
    "\n",
    "frontXray_df = pd.DataFrame(data={'filename': frontXray_list, 'label': [0 for i in range(len(frontXray_list))]})\n",
    "upXray_df = pd.DataFrame(data={'filename': upXray_list, 'label': [1 for i in range(len(upXray_list))]})\n",
    "leftXray_df = pd.DataFrame(data={'filename': leftXray_list, 'label': [2 for i in range(len(leftXray_list))]})\n",
    "rightXray_df = pd.DataFrame(data={'filename': rightXray_list, 'label': [3 for i in range(len(rightXray_list))]})\n",
    "\n",
    "df=frontXray_df.append([upXray_df, leftXray_df, rightXray_df])\n",
    "df.columns=['filename', 'label']\n",
    "df=df.sample(frac=1)\n",
    "df.reset_index(drop=True,inplace=True)"
   ]
  },
  {
   "cell_type": "code",
   "execution_count": 43,
   "metadata": {},
   "outputs": [],
   "source": [
    "### One hot encoding of label\n",
    "y_train = np.array(df['label'].tolist())\n",
    "y_train = keras.utils.np_utils.to_categorical(y_train)"
   ]
  },
  {
   "cell_type": "code",
   "execution_count": 15,
   "metadata": {},
   "outputs": [],
   "source": [
    "metadata=[]\n",
    "for i in df['filename'].values:\n",
    "    metadata.append(pydicom.filereader.dcmread(str(i)))"
   ]
  },
  {
   "cell_type": "code",
   "execution_count": 19,
   "metadata": {},
   "outputs": [
    {
     "data": {
      "text/plain": [
       "array([[ 681,  669,  652, ...,  674,   21,    0],\n",
       "       [ 675,  660,  649, ...,  676,   27,    0],\n",
       "       [ 700,  673,  654, ...,  668,   26,    0],\n",
       "       ...,\n",
       "       [ 614,  603,  616, ..., 1840,   36,    0],\n",
       "       [ 580,  570,  583, ..., 1798,  140,    0],\n",
       "       [  30,   19,   32, ...,    0,    1,    0]], dtype=uint16)"
      ]
     },
     "execution_count": 19,
     "metadata": {},
     "output_type": "execute_result"
    }
   ],
   "source": [
    "metadata[1].pixel_array"
   ]
  },
  {
   "cell_type": "code",
   "execution_count": 11,
   "metadata": {},
   "outputs": [],
   "source": [
    "# ### Resizing DICOM files in the df\n",
    "# x_train=[]\n",
    "# for i in metadata:\n",
    "#     i=i.pixel_array\n",
    "#     i=cv2.resize(i, (256, 256))\n",
    "#     x_train.append(i)\n",
    "# x_train=np.array(x_train)"
   ]
  },
  {
   "cell_type": "code",
   "execution_count": 21,
   "metadata": {},
   "outputs": [],
   "source": [
    "x_train=[]\n",
    "for i in metadata:\n",
    "    pixeldata=i.pixel_array\n",
    "    clahe = cv2.createCLAHE(clipLimit=2.0, tileGridSize=(8,8))\n",
    "    cl1 = clahe.apply(pixeldata)\n",
    "    cl1 = cv2.resize(cl1, (224, 224))\n",
    "    backtorgb = cv2.cvtColor(cl1,cv2.COLOR_GRAY2RGB)\n",
    "    mean, std = backtorgb.mean(), backtorgb.std()\n",
    "    x_train.append((np.clip((backtorgb-mean)/std, -2.0, 2.0)+2.0)/4.0)    "
   ]
  },
  {
   "cell_type": "code",
   "execution_count": 13,
   "metadata": {},
   "outputs": [],
   "source": [
    "# regularized=[]\n",
    "# for i in range(len(x_train)):\n",
    "#     mean, std = x_train[i].mean(), x_train[i].std()\n",
    "#     regularized.append((np.clip((x_train[i]-mean)/std, -2.0, 2.0)+2.0)/4.0)"
   ]
  },
  {
   "cell_type": "code",
   "execution_count": 22,
   "metadata": {},
   "outputs": [],
   "source": [
    "overlayData=[]\n",
    "for image in metadata:\n",
    "    overlay_data=image[0x6000, 0x3000].value\n",
    "    rows = image[0x6000, 0x0010].value\n",
    "    cols = image[0x6000, 0x0011].value\n",
    "    btmp = np.frombuffer(overlay_data, dtype=np.uint8)\n",
    "    btmp = np.unpackbits(btmp)\n",
    "    btmp = btmp[:rows*cols]\n",
    "    btmp = np.reshape(btmp, (rows, cols))\n",
    "    btmp = cv2.resize(btmp, (224, 224))\n",
    "    btmp = cv2.cvtColor(btmp,cv2.COLOR_GRAY2RGB)\n",
    "    overlayData.append(btmp)\n",
    "overlayData=np.array(overlayData)"
   ]
  },
  {
   "cell_type": "code",
   "execution_count": 23,
   "metadata": {},
   "outputs": [],
   "source": [
    "blendedImage=[]\n",
    "for i in range(len(overlayData)):\n",
    "    blendedImage.append(np.maximum(x_train[i], overlayData[i]))"
   ]
  },
  {
   "cell_type": "code",
   "execution_count": 24,
   "metadata": {},
   "outputs": [
    {
     "data": {
      "text/plain": [
       "(724, 224, 224, 3)"
      ]
     },
     "execution_count": 24,
     "metadata": {},
     "output_type": "execute_result"
    },
    {
     "data": {
      "image/png": "[encoded data removed]",
      "text/plain": [
       "<Figure size 432x288 with 1 Axes>"
      ]
     },
     "metadata": {
      "needs_background": "light"
     },
     "output_type": "display_data"
    }
   ],
   "source": [
    "plt.imshow(blendedImage[126])\n",
    "np.array(blendedImage).shape"
   ]
  },
  {
   "cell_type": "code",
   "execution_count": 16,
   "metadata": {},
   "outputs": [],
   "source": [
    "# blendedImage=np.array(blendedImage).reshape(724, 256, 256, 1).astype('float32')"
   ]
  },
  {
   "cell_type": "code",
   "execution_count": 70,
   "metadata": {},
   "outputs": [],
   "source": [
    "x_val=blendedImage[570:650]\n",
    "y_val=y_train[570:650]\n",
    "x_test=blendedImage[650:]\n",
    "y_test=y_train[650:]"
   ]
  },
  {
   "cell_type": "code",
   "execution_count": 71,
   "metadata": {},
   "outputs": [],
   "source": [
    "blendedImage=blendedImage[:570]\n",
    "y_train=y_train[:570]"
   ]
  },
  {
   "cell_type": "code",
   "execution_count": 25,
   "metadata": {},
   "outputs": [],
   "source": [
    "#resnet50\n",
    "num_classes=2\n",
    "input_shape=(224, 224, 3)\n",
    "from keras.applications import ResNet50\n",
    "from keras.layers import Dense, Input, Activation, Concatenate, Flatten\n",
    "from keras.models import Model\n",
    "from keras.callbacks import EarlyStopping\n",
    "from keras import optimizers\n",
    "from keras.preprocessing.image import ImageDataGenerator\n",
    "from keras.layers.normalization import BatchNormalization\n",
    "from keras.optimizers import Adadelta, SGD, Nadam\n",
    "front_model = ResNet50(include_top=False,\n",
    "                            weights='imagenet',\n",
    "                            input_shape=input_shape, pooling='avg')"
   ]
  },
  {
   "cell_type": "code",
   "execution_count": 26,
   "metadata": {},
   "outputs": [
    {
     "data": {
      "text/plain": [
       "<tf.Tensor 'input_1:0' shape=(None, 224, 224, 3) dtype=float32>"
      ]
     },
     "execution_count": 26,
     "metadata": {},
     "output_type": "execute_result"
    }
   ],
   "source": [
    "front_model.input"
   ]
  },
  {
   "cell_type": "code",
   "execution_count": 31,
   "metadata": {},
   "outputs": [
    {
     "name": "stdout",
     "output_type": "stream",
     "text": [
      "Model: \"model_2\"\n",
      "__________________________________________________________________________________________________\n",
      "Layer (type)                    Output Shape         Param #     Connected to                     \n",
      "==================================================================================================\n",
      "input_5 (InputLayer)            (None, 224, 224, 3)  0                                            \n",
      "__________________________________________________________________________________________________\n",
      "conv1_pad (ZeroPadding2D)       (None, 230, 230, 3)  0           input_5[0][0]                    \n",
      "__________________________________________________________________________________________________\n",
      "conv1 (Conv2D)                  (None, 112, 112, 64) 9472        conv1_pad[0][0]                  \n",
      "__________________________________________________________________________________________________\n",
      "bn_conv1 (BatchNormalization)   (None, 112, 112, 64) 256         conv1[0][0]                      \n",
      "__________________________________________________________________________________________________\n",
      "activation_197 (Activation)     (None, 112, 112, 64) 0           bn_conv1[0][0]                   \n",
      "__________________________________________________________________________________________________\n",
      "pool1_pad (ZeroPadding2D)       (None, 114, 114, 64) 0           activation_197[0][0]             \n",
      "__________________________________________________________________________________________________\n",
      "max_pooling2d_5 (MaxPooling2D)  (None, 56, 56, 64)   0           pool1_pad[0][0]                  \n",
      "__________________________________________________________________________________________________\n",
      "res2a_branch2a (Conv2D)         (None, 56, 56, 64)   4160        max_pooling2d_5[0][0]            \n",
      "__________________________________________________________________________________________________\n",
      "bn2a_branch2a (BatchNormalizati (None, 56, 56, 64)   256         res2a_branch2a[0][0]             \n",
      "__________________________________________________________________________________________________\n",
      "activation_198 (Activation)     (None, 56, 56, 64)   0           bn2a_branch2a[0][0]              \n",
      "__________________________________________________________________________________________________\n",
      "res2a_branch2b (Conv2D)         (None, 56, 56, 64)   36928       activation_198[0][0]             \n",
      "__________________________________________________________________________________________________\n",
      "bn2a_branch2b (BatchNormalizati (None, 56, 56, 64)   256         res2a_branch2b[0][0]             \n",
      "__________________________________________________________________________________________________\n",
      "activation_199 (Activation)     (None, 56, 56, 64)   0           bn2a_branch2b[0][0]              \n",
      "__________________________________________________________________________________________________\n",
      "res2a_branch2c (Conv2D)         (None, 56, 56, 256)  16640       activation_199[0][0]             \n",
      "__________________________________________________________________________________________________\n",
      "res2a_branch1 (Conv2D)          (None, 56, 56, 256)  16640       max_pooling2d_5[0][0]            \n",
      "__________________________________________________________________________________________________\n",
      "bn2a_branch2c (BatchNormalizati (None, 56, 56, 256)  1024        res2a_branch2c[0][0]             \n",
      "__________________________________________________________________________________________________\n",
      "bn2a_branch1 (BatchNormalizatio (None, 56, 56, 256)  1024        res2a_branch1[0][0]              \n",
      "__________________________________________________________________________________________________\n",
      "add_65 (Add)                    (None, 56, 56, 256)  0           bn2a_branch2c[0][0]              \n",
      "                                                                 bn2a_branch1[0][0]               \n",
      "__________________________________________________________________________________________________\n",
      "activation_200 (Activation)     (None, 56, 56, 256)  0           add_65[0][0]                     \n",
      "__________________________________________________________________________________________________\n",
      "res2b_branch2a (Conv2D)         (None, 56, 56, 64)   16448       activation_200[0][0]             \n",
      "__________________________________________________________________________________________________\n",
      "bn2b_branch2a (BatchNormalizati (None, 56, 56, 64)   256         res2b_branch2a[0][0]             \n",
      "__________________________________________________________________________________________________\n",
      "activation_201 (Activation)     (None, 56, 56, 64)   0           bn2b_branch2a[0][0]              \n",
      "__________________________________________________________________________________________________\n",
      "res2b_branch2b (Conv2D)         (None, 56, 56, 64)   36928       activation_201[0][0]             \n",
      "__________________________________________________________________________________________________\n",
      "bn2b_branch2b (BatchNormalizati (None, 56, 56, 64)   256         res2b_branch2b[0][0]             \n",
      "__________________________________________________________________________________________________\n",
      "activation_202 (Activation)     (None, 56, 56, 64)   0           bn2b_branch2b[0][0]              \n",
      "__________________________________________________________________________________________________\n",
      "res2b_branch2c (Conv2D)         (None, 56, 56, 256)  16640       activation_202[0][0]             \n",
      "__________________________________________________________________________________________________\n",
      "bn2b_branch2c (BatchNormalizati (None, 56, 56, 256)  1024        res2b_branch2c[0][0]             \n",
      "__________________________________________________________________________________________________\n",
      "add_66 (Add)                    (None, 56, 56, 256)  0           bn2b_branch2c[0][0]              \n",
      "                                                                 activation_200[0][0]             \n",
      "__________________________________________________________________________________________________\n",
      "activation_203 (Activation)     (None, 56, 56, 256)  0           add_66[0][0]                     \n",
      "__________________________________________________________________________________________________\n",
      "res2c_branch2a (Conv2D)         (None, 56, 56, 64)   16448       activation_203[0][0]             \n",
      "__________________________________________________________________________________________________\n",
      "bn2c_branch2a (BatchNormalizati (None, 56, 56, 64)   256         res2c_branch2a[0][0]             \n",
      "__________________________________________________________________________________________________\n",
      "activation_204 (Activation)     (None, 56, 56, 64)   0           bn2c_branch2a[0][0]              \n",
      "__________________________________________________________________________________________________\n",
      "res2c_branch2b (Conv2D)         (None, 56, 56, 64)   36928       activation_204[0][0]             \n",
      "__________________________________________________________________________________________________\n",
      "bn2c_branch2b (BatchNormalizati (None, 56, 56, 64)   256         res2c_branch2b[0][0]             \n",
      "__________________________________________________________________________________________________\n",
      "activation_205 (Activation)     (None, 56, 56, 64)   0           bn2c_branch2b[0][0]              \n",
      "__________________________________________________________________________________________________\n",
      "res2c_branch2c (Conv2D)         (None, 56, 56, 256)  16640       activation_205[0][0]             \n",
      "__________________________________________________________________________________________________\n",
      "bn2c_branch2c (BatchNormalizati (None, 56, 56, 256)  1024        res2c_branch2c[0][0]             \n",
      "__________________________________________________________________________________________________\n",
      "add_67 (Add)                    (None, 56, 56, 256)  0           bn2c_branch2c[0][0]              \n",
      "                                                                 activation_203[0][0]             \n",
      "__________________________________________________________________________________________________\n",
      "activation_206 (Activation)     (None, 56, 56, 256)  0           add_67[0][0]                     \n",
      "__________________________________________________________________________________________________\n",
      "res3a_branch2a (Conv2D)         (None, 28, 28, 128)  32896       activation_206[0][0]             \n",
      "__________________________________________________________________________________________________\n",
      "bn3a_branch2a (BatchNormalizati (None, 28, 28, 128)  512         res3a_branch2a[0][0]             \n",
      "__________________________________________________________________________________________________\n",
      "activation_207 (Activation)     (None, 28, 28, 128)  0           bn3a_branch2a[0][0]              \n",
      "__________________________________________________________________________________________________\n",
      "res3a_branch2b (Conv2D)         (None, 28, 28, 128)  147584      activation_207[0][0]             \n",
      "__________________________________________________________________________________________________\n",
      "bn3a_branch2b (BatchNormalizati (None, 28, 28, 128)  512         res3a_branch2b[0][0]             \n",
      "__________________________________________________________________________________________________\n",
      "activation_208 (Activation)     (None, 28, 28, 128)  0           bn3a_branch2b[0][0]              \n",
      "__________________________________________________________________________________________________\n",
      "res3a_branch2c (Conv2D)         (None, 28, 28, 512)  66048       activation_208[0][0]             \n",
      "__________________________________________________________________________________________________\n",
      "res3a_branch1 (Conv2D)          (None, 28, 28, 512)  131584      activation_206[0][0]             \n",
      "__________________________________________________________________________________________________\n",
      "bn3a_branch2c (BatchNormalizati (None, 28, 28, 512)  2048        res3a_branch2c[0][0]             \n",
      "__________________________________________________________________________________________________\n",
      "bn3a_branch1 (BatchNormalizatio (None, 28, 28, 512)  2048        res3a_branch1[0][0]              \n",
      "__________________________________________________________________________________________________\n",
      "add_68 (Add)                    (None, 28, 28, 512)  0           bn3a_branch2c[0][0]              \n",
      "                                                                 bn3a_branch1[0][0]               \n",
      "__________________________________________________________________________________________________\n",
      "activation_209 (Activation)     (None, 28, 28, 512)  0           add_68[0][0]                     \n",
      "__________________________________________________________________________________________________\n",
      "res3b_branch2a (Conv2D)         (None, 28, 28, 128)  65664       activation_209[0][0]             \n",
      "__________________________________________________________________________________________________\n",
      "bn3b_branch2a (BatchNormalizati (None, 28, 28, 128)  512         res3b_branch2a[0][0]             \n",
      "__________________________________________________________________________________________________\n",
      "activation_210 (Activation)     (None, 28, 28, 128)  0           bn3b_branch2a[0][0]              \n",
      "__________________________________________________________________________________________________\n",
      "res3b_branch2b (Conv2D)         (None, 28, 28, 128)  147584      activation_210[0][0]             \n",
      "__________________________________________________________________________________________________\n",
      "bn3b_branch2b (BatchNormalizati (None, 28, 28, 128)  512         res3b_branch2b[0][0]             \n",
      "__________________________________________________________________________________________________\n",
      "activation_211 (Activation)     (None, 28, 28, 128)  0           bn3b_branch2b[0][0]              \n",
      "__________________________________________________________________________________________________\n",
      "res3b_branch2c (Conv2D)         (None, 28, 28, 512)  66048       activation_211[0][0]             \n",
      "__________________________________________________________________________________________________\n",
      "bn3b_branch2c (BatchNormalizati (None, 28, 28, 512)  2048        res3b_branch2c[0][0]             \n",
      "__________________________________________________________________________________________________\n",
      "add_69 (Add)                    (None, 28, 28, 512)  0           bn3b_branch2c[0][0]              \n",
      "                                                                 activation_209[0][0]             \n",
      "__________________________________________________________________________________________________\n",
      "activation_212 (Activation)     (None, 28, 28, 512)  0           add_69[0][0]                     \n",
      "__________________________________________________________________________________________________\n",
      "res3c_branch2a (Conv2D)         (None, 28, 28, 128)  65664       activation_212[0][0]             \n",
      "__________________________________________________________________________________________________\n",
      "bn3c_branch2a (BatchNormalizati (None, 28, 28, 128)  512         res3c_branch2a[0][0]             \n",
      "__________________________________________________________________________________________________\n",
      "activation_213 (Activation)     (None, 28, 28, 128)  0           bn3c_branch2a[0][0]              \n",
      "__________________________________________________________________________________________________\n",
      "res3c_branch2b (Conv2D)         (None, 28, 28, 128)  147584      activation_213[0][0]             \n",
      "__________________________________________________________________________________________________\n",
      "bn3c_branch2b (BatchNormalizati (None, 28, 28, 128)  512         res3c_branch2b[0][0]             \n",
      "__________________________________________________________________________________________________\n",
      "activation_214 (Activation)     (None, 28, 28, 128)  0           bn3c_branch2b[0][0]              \n",
      "__________________________________________________________________________________________________\n",
      "res3c_branch2c (Conv2D)         (None, 28, 28, 512)  66048       activation_214[0][0]             \n",
      "__________________________________________________________________________________________________\n",
      "bn3c_branch2c (BatchNormalizati (None, 28, 28, 512)  2048        res3c_branch2c[0][0]             \n",
      "__________________________________________________________________________________________________\n",
      "add_70 (Add)                    (None, 28, 28, 512)  0           bn3c_branch2c[0][0]              \n",
      "                                                                 activation_212[0][0]             \n",
      "__________________________________________________________________________________________________\n",
      "activation_215 (Activation)     (None, 28, 28, 512)  0           add_70[0][0]                     \n",
      "__________________________________________________________________________________________________\n",
      "res3d_branch2a (Conv2D)         (None, 28, 28, 128)  65664       activation_215[0][0]             \n",
      "__________________________________________________________________________________________________\n",
      "bn3d_branch2a (BatchNormalizati (None, 28, 28, 128)  512         res3d_branch2a[0][0]             \n",
      "__________________________________________________________________________________________________\n",
      "activation_216 (Activation)     (None, 28, 28, 128)  0           bn3d_branch2a[0][0]              \n",
      "__________________________________________________________________________________________________\n",
      "res3d_branch2b (Conv2D)         (None, 28, 28, 128)  147584      activation_216[0][0]             \n",
      "__________________________________________________________________________________________________\n",
      "bn3d_branch2b (BatchNormalizati (None, 28, 28, 128)  512         res3d_branch2b[0][0]             \n",
      "__________________________________________________________________________________________________\n",
      "activation_217 (Activation)     (None, 28, 28, 128)  0           bn3d_branch2b[0][0]              \n",
      "__________________________________________________________________________________________________\n",
      "res3d_branch2c (Conv2D)         (None, 28, 28, 512)  66048       activation_217[0][0]             \n",
      "__________________________________________________________________________________________________\n",
      "bn3d_branch2c (BatchNormalizati (None, 28, 28, 512)  2048        res3d_branch2c[0][0]             \n",
      "__________________________________________________________________________________________________\n",
      "add_71 (Add)                    (None, 28, 28, 512)  0           bn3d_branch2c[0][0]              \n",
      "                                                                 activation_215[0][0]             \n",
      "__________________________________________________________________________________________________\n",
      "activation_218 (Activation)     (None, 28, 28, 512)  0           add_71[0][0]                     \n",
      "__________________________________________________________________________________________________\n",
      "res4a_branch2a (Conv2D)         (None, 14, 14, 256)  131328      activation_218[0][0]             \n",
      "__________________________________________________________________________________________________\n",
      "bn4a_branch2a (BatchNormalizati (None, 14, 14, 256)  1024        res4a_branch2a[0][0]             \n",
      "__________________________________________________________________________________________________\n",
      "activation_219 (Activation)     (None, 14, 14, 256)  0           bn4a_branch2a[0][0]              \n",
      "__________________________________________________________________________________________________\n",
      "res4a_branch2b (Conv2D)         (None, 14, 14, 256)  590080      activation_219[0][0]             \n",
      "__________________________________________________________________________________________________\n",
      "bn4a_branch2b (BatchNormalizati (None, 14, 14, 256)  1024        res4a_branch2b[0][0]             \n",
      "__________________________________________________________________________________________________\n",
      "activation_220 (Activation)     (None, 14, 14, 256)  0           bn4a_branch2b[0][0]              \n",
      "__________________________________________________________________________________________________\n",
      "res4a_branch2c (Conv2D)         (None, 14, 14, 1024) 263168      activation_220[0][0]             \n",
      "__________________________________________________________________________________________________\n",
      "res4a_branch1 (Conv2D)          (None, 14, 14, 1024) 525312      activation_218[0][0]             \n",
      "__________________________________________________________________________________________________\n",
      "bn4a_branch2c (BatchNormalizati (None, 14, 14, 1024) 4096        res4a_branch2c[0][0]             \n",
      "__________________________________________________________________________________________________\n",
      "bn4a_branch1 (BatchNormalizatio (None, 14, 14, 1024) 4096        res4a_branch1[0][0]              \n",
      "__________________________________________________________________________________________________\n",
      "add_72 (Add)                    (None, 14, 14, 1024) 0           bn4a_branch2c[0][0]              \n",
      "                                                                 bn4a_branch1[0][0]               \n",
      "__________________________________________________________________________________________________\n",
      "activation_221 (Activation)     (None, 14, 14, 1024) 0           add_72[0][0]                     \n",
      "__________________________________________________________________________________________________\n",
      "res4b_branch2a (Conv2D)         (None, 14, 14, 256)  262400      activation_221[0][0]             \n",
      "__________________________________________________________________________________________________\n",
      "bn4b_branch2a (BatchNormalizati (None, 14, 14, 256)  1024        res4b_branch2a[0][0]             \n",
      "__________________________________________________________________________________________________\n",
      "activation_222 (Activation)     (None, 14, 14, 256)  0           bn4b_branch2a[0][0]              \n",
      "__________________________________________________________________________________________________\n",
      "res4b_branch2b (Conv2D)         (None, 14, 14, 256)  590080      activation_222[0][0]             \n",
      "__________________________________________________________________________________________________\n",
      "bn4b_branch2b (BatchNormalizati (None, 14, 14, 256)  1024        res4b_branch2b[0][0]             \n",
      "__________________________________________________________________________________________________\n",
      "activation_223 (Activation)     (None, 14, 14, 256)  0           bn4b_branch2b[0][0]              \n",
      "__________________________________________________________________________________________________\n",
      "res4b_branch2c (Conv2D)         (None, 14, 14, 1024) 263168      activation_223[0][0]             \n",
      "__________________________________________________________________________________________________\n",
      "bn4b_branch2c (BatchNormalizati (None, 14, 14, 1024) 4096        res4b_branch2c[0][0]             \n",
      "__________________________________________________________________________________________________\n",
      "add_73 (Add)                    (None, 14, 14, 1024) 0           bn4b_branch2c[0][0]              \n",
      "                                                                 activation_221[0][0]             \n",
      "__________________________________________________________________________________________________\n",
      "activation_224 (Activation)     (None, 14, 14, 1024) 0           add_73[0][0]                     \n",
      "__________________________________________________________________________________________________\n",
      "res4c_branch2a (Conv2D)         (None, 14, 14, 256)  262400      activation_224[0][0]             \n",
      "__________________________________________________________________________________________________\n",
      "bn4c_branch2a (BatchNormalizati (None, 14, 14, 256)  1024        res4c_branch2a[0][0]             \n",
      "__________________________________________________________________________________________________\n",
      "activation_225 (Activation)     (None, 14, 14, 256)  0           bn4c_branch2a[0][0]              \n",
      "__________________________________________________________________________________________________\n",
      "res4c_branch2b (Conv2D)         (None, 14, 14, 256)  590080      activation_225[0][0]             \n",
      "__________________________________________________________________________________________________\n",
      "bn4c_branch2b (BatchNormalizati (None, 14, 14, 256)  1024        res4c_branch2b[0][0]             \n",
      "__________________________________________________________________________________________________\n",
      "activation_226 (Activation)     (None, 14, 14, 256)  0           bn4c_branch2b[0][0]              \n",
      "__________________________________________________________________________________________________\n",
      "res4c_branch2c (Conv2D)         (None, 14, 14, 1024) 263168      activation_226[0][0]             \n",
      "__________________________________________________________________________________________________\n",
      "bn4c_branch2c (BatchNormalizati (None, 14, 14, 1024) 4096        res4c_branch2c[0][0]             \n",
      "__________________________________________________________________________________________________\n",
      "add_74 (Add)                    (None, 14, 14, 1024) 0           bn4c_branch2c[0][0]              \n",
      "                                                                 activation_224[0][0]             \n",
      "__________________________________________________________________________________________________\n",
      "activation_227 (Activation)     (None, 14, 14, 1024) 0           add_74[0][0]                     \n",
      "__________________________________________________________________________________________________\n",
      "res4d_branch2a (Conv2D)         (None, 14, 14, 256)  262400      activation_227[0][0]             \n",
      "__________________________________________________________________________________________________\n",
      "bn4d_branch2a (BatchNormalizati (None, 14, 14, 256)  1024        res4d_branch2a[0][0]             \n",
      "__________________________________________________________________________________________________\n",
      "activation_228 (Activation)     (None, 14, 14, 256)  0           bn4d_branch2a[0][0]              \n",
      "__________________________________________________________________________________________________\n",
      "res4d_branch2b (Conv2D)         (None, 14, 14, 256)  590080      activation_228[0][0]             \n",
      "__________________________________________________________________________________________________\n",
      "bn4d_branch2b (BatchNormalizati (None, 14, 14, 256)  1024        res4d_branch2b[0][0]             \n",
      "__________________________________________________________________________________________________\n",
      "activation_229 (Activation)     (None, 14, 14, 256)  0           bn4d_branch2b[0][0]              \n",
      "__________________________________________________________________________________________________\n",
      "res4d_branch2c (Conv2D)         (None, 14, 14, 1024) 263168      activation_229[0][0]             \n",
      "__________________________________________________________________________________________________\n",
      "bn4d_branch2c (BatchNormalizati (None, 14, 14, 1024) 4096        res4d_branch2c[0][0]             \n",
      "__________________________________________________________________________________________________\n",
      "add_75 (Add)                    (None, 14, 14, 1024) 0           bn4d_branch2c[0][0]              \n",
      "                                                                 activation_227[0][0]             \n",
      "__________________________________________________________________________________________________\n",
      "activation_230 (Activation)     (None, 14, 14, 1024) 0           add_75[0][0]                     \n",
      "__________________________________________________________________________________________________\n",
      "res4e_branch2a (Conv2D)         (None, 14, 14, 256)  262400      activation_230[0][0]             \n",
      "__________________________________________________________________________________________________\n",
      "bn4e_branch2a (BatchNormalizati (None, 14, 14, 256)  1024        res4e_branch2a[0][0]             \n",
      "__________________________________________________________________________________________________\n",
      "activation_231 (Activation)     (None, 14, 14, 256)  0           bn4e_branch2a[0][0]              \n",
      "__________________________________________________________________________________________________\n",
      "res4e_branch2b (Conv2D)         (None, 14, 14, 256)  590080      activation_231[0][0]             \n",
      "__________________________________________________________________________________________________\n",
      "bn4e_branch2b (BatchNormalizati (None, 14, 14, 256)  1024        res4e_branch2b[0][0]             \n",
      "__________________________________________________________________________________________________\n",
      "activation_232 (Activation)     (None, 14, 14, 256)  0           bn4e_branch2b[0][0]              \n",
      "__________________________________________________________________________________________________\n",
      "res4e_branch2c (Conv2D)         (None, 14, 14, 1024) 263168      activation_232[0][0]             \n",
      "__________________________________________________________________________________________________\n",
      "bn4e_branch2c (BatchNormalizati (None, 14, 14, 1024) 4096        res4e_branch2c[0][0]             \n",
      "__________________________________________________________________________________________________\n",
      "add_76 (Add)                    (None, 14, 14, 1024) 0           bn4e_branch2c[0][0]              \n",
      "                                                                 activation_230[0][0]             \n",
      "__________________________________________________________________________________________________\n",
      "activation_233 (Activation)     (None, 14, 14, 1024) 0           add_76[0][0]                     \n",
      "__________________________________________________________________________________________________\n",
      "res4f_branch2a (Conv2D)         (None, 14, 14, 256)  262400      activation_233[0][0]             \n",
      "__________________________________________________________________________________________________\n",
      "bn4f_branch2a (BatchNormalizati (None, 14, 14, 256)  1024        res4f_branch2a[0][0]             \n",
      "__________________________________________________________________________________________________\n",
      "activation_234 (Activation)     (None, 14, 14, 256)  0           bn4f_branch2a[0][0]              \n",
      "__________________________________________________________________________________________________\n",
      "res4f_branch2b (Conv2D)         (None, 14, 14, 256)  590080      activation_234[0][0]             \n",
      "__________________________________________________________________________________________________\n",
      "bn4f_branch2b (BatchNormalizati (None, 14, 14, 256)  1024        res4f_branch2b[0][0]             \n",
      "__________________________________________________________________________________________________\n",
      "activation_235 (Activation)     (None, 14, 14, 256)  0           bn4f_branch2b[0][0]              \n",
      "__________________________________________________________________________________________________\n",
      "res4f_branch2c (Conv2D)         (None, 14, 14, 1024) 263168      activation_235[0][0]             \n",
      "__________________________________________________________________________________________________\n",
      "bn4f_branch2c (BatchNormalizati (None, 14, 14, 1024) 4096        res4f_branch2c[0][0]             \n",
      "__________________________________________________________________________________________________\n",
      "add_77 (Add)                    (None, 14, 14, 1024) 0           bn4f_branch2c[0][0]              \n",
      "                                                                 activation_233[0][0]             \n",
      "__________________________________________________________________________________________________\n",
      "activation_236 (Activation)     (None, 14, 14, 1024) 0           add_77[0][0]                     \n",
      "__________________________________________________________________________________________________\n",
      "res5a_branch2a (Conv2D)         (None, 7, 7, 512)    524800      activation_236[0][0]             \n",
      "__________________________________________________________________________________________________\n",
      "bn5a_branch2a (BatchNormalizati (None, 7, 7, 512)    2048        res5a_branch2a[0][0]             \n",
      "__________________________________________________________________________________________________\n",
      "activation_237 (Activation)     (None, 7, 7, 512)    0           bn5a_branch2a[0][0]              \n",
      "__________________________________________________________________________________________________\n",
      "res5a_branch2b (Conv2D)         (None, 7, 7, 512)    2359808     activation_237[0][0]             \n",
      "__________________________________________________________________________________________________\n",
      "bn5a_branch2b (BatchNormalizati (None, 7, 7, 512)    2048        res5a_branch2b[0][0]             \n",
      "__________________________________________________________________________________________________\n",
      "activation_238 (Activation)     (None, 7, 7, 512)    0           bn5a_branch2b[0][0]              \n",
      "__________________________________________________________________________________________________\n",
      "res5a_branch2c (Conv2D)         (None, 7, 7, 2048)   1050624     activation_238[0][0]             \n",
      "__________________________________________________________________________________________________\n",
      "res5a_branch1 (Conv2D)          (None, 7, 7, 2048)   2099200     activation_236[0][0]             \n",
      "__________________________________________________________________________________________________\n",
      "bn5a_branch2c (BatchNormalizati (None, 7, 7, 2048)   8192        res5a_branch2c[0][0]             \n",
      "__________________________________________________________________________________________________\n",
      "bn5a_branch1 (BatchNormalizatio (None, 7, 7, 2048)   8192        res5a_branch1[0][0]              \n",
      "__________________________________________________________________________________________________\n",
      "add_78 (Add)                    (None, 7, 7, 2048)   0           bn5a_branch2c[0][0]              \n",
      "                                                                 bn5a_branch1[0][0]               \n",
      "__________________________________________________________________________________________________\n",
      "activation_239 (Activation)     (None, 7, 7, 2048)   0           add_78[0][0]                     \n",
      "__________________________________________________________________________________________________\n",
      "res5b_branch2a (Conv2D)         (None, 7, 7, 512)    1049088     activation_239[0][0]             \n",
      "__________________________________________________________________________________________________\n",
      "bn5b_branch2a (BatchNormalizati (None, 7, 7, 512)    2048        res5b_branch2a[0][0]             \n",
      "__________________________________________________________________________________________________\n",
      "activation_240 (Activation)     (None, 7, 7, 512)    0           bn5b_branch2a[0][0]              \n",
      "__________________________________________________________________________________________________\n",
      "res5b_branch2b (Conv2D)         (None, 7, 7, 512)    2359808     activation_240[0][0]             \n",
      "__________________________________________________________________________________________________\n",
      "bn5b_branch2b (BatchNormalizati (None, 7, 7, 512)    2048        res5b_branch2b[0][0]             \n",
      "__________________________________________________________________________________________________\n",
      "activation_241 (Activation)     (None, 7, 7, 512)    0           bn5b_branch2b[0][0]              \n",
      "__________________________________________________________________________________________________\n",
      "res5b_branch2c (Conv2D)         (None, 7, 7, 2048)   1050624     activation_241[0][0]             \n",
      "__________________________________________________________________________________________________\n",
      "bn5b_branch2c (BatchNormalizati (None, 7, 7, 2048)   8192        res5b_branch2c[0][0]             \n",
      "__________________________________________________________________________________________________\n",
      "add_79 (Add)                    (None, 7, 7, 2048)   0           bn5b_branch2c[0][0]              \n",
      "                                                                 activation_239[0][0]             \n",
      "__________________________________________________________________________________________________\n",
      "activation_242 (Activation)     (None, 7, 7, 2048)   0           add_79[0][0]                     \n",
      "__________________________________________________________________________________________________\n",
      "res5c_branch2a (Conv2D)         (None, 7, 7, 512)    1049088     activation_242[0][0]             \n",
      "__________________________________________________________________________________________________\n",
      "bn5c_branch2a (BatchNormalizati (None, 7, 7, 512)    2048        res5c_branch2a[0][0]             \n",
      "__________________________________________________________________________________________________\n",
      "activation_243 (Activation)     (None, 7, 7, 512)    0           bn5c_branch2a[0][0]              \n",
      "__________________________________________________________________________________________________\n",
      "res5c_branch2b (Conv2D)         (None, 7, 7, 512)    2359808     activation_243[0][0]             \n",
      "__________________________________________________________________________________________________\n",
      "bn5c_branch2b (BatchNormalizati (None, 7, 7, 512)    2048        res5c_branch2b[0][0]             \n",
      "__________________________________________________________________________________________________\n",
      "activation_244 (Activation)     (None, 7, 7, 512)    0           bn5c_branch2b[0][0]              \n",
      "__________________________________________________________________________________________________\n",
      "res5c_branch2c (Conv2D)         (None, 7, 7, 2048)   1050624     activation_244[0][0]             \n",
      "__________________________________________________________________________________________________\n",
      "bn5c_branch2c (BatchNormalizati (None, 7, 7, 2048)   8192        res5c_branch2c[0][0]             \n",
      "__________________________________________________________________________________________________\n",
      "add_80 (Add)                    (None, 7, 7, 2048)   0           bn5c_branch2c[0][0]              \n",
      "                                                                 activation_242[0][0]             \n",
      "__________________________________________________________________________________________________\n",
      "activation_245 (Activation)     (None, 7, 7, 2048)   0           add_80[0][0]                     \n",
      "__________________________________________________________________________________________________\n",
      "global_average_pooling2d_5 (Glo (None, 2048)         0           activation_245[0][0]             \n",
      "__________________________________________________________________________________________________\n",
      "predictions (Dense)             (None, 4)            8196        global_average_pooling2d_5[0][0] \n",
      "==================================================================================================\n",
      "Total params: 23,595,908\n",
      "Trainable params: 23,542,788\n",
      "Non-trainable params: 53,120\n",
      "__________________________________________________________________________________________________\n"
     ]
    }
   ],
   "source": [
    "from keras.applications import ResNet50\n",
    "from keras.layers import Dense, Input, Activation, Concatenate, Flatten\n",
    "from keras.models import Model\n",
    "from keras.callbacks import EarlyStopping\n",
    "from keras import optimizers\n",
    "from keras.preprocessing.image import ImageDataGenerator\n",
    "from keras.layers.normalization import BatchNormalization\n",
    "from keras.optimizers import Adadelta, SGD, Nadam\n",
    "\n",
    "#resnet50\n",
    "num_classes=4\n",
    "input_shape=(224, 224, 3)\n",
    "\n",
    "front_model = ResNet50(include_top=False,\n",
    "                            weights='imagenet',\n",
    "                            input_shape=input_shape, pooling='avg')\n",
    "\n",
    "x = Dense(num_classes, activation='softmax', name='predictions')(front_model.output)\n",
    "front_model = Model([front_model.input], x)\n",
    "sgd = SGD(lr=1e-3, decay=1e-6, momentum=0.9, nesterov=True)\n",
    "front_model.compile(optimizer=sgd, loss='binary_crossentropy', metrics=['accuracy'])\n",
    "front_model.summary()"
   ]
  },
  {
   "cell_type": "code",
   "execution_count": 32,
   "metadata": {},
   "outputs": [
    {
     "name": "stdout",
     "output_type": "stream",
     "text": [
      "WARNING:tensorflow:From /usr/local/lib/python3.6/dist-packages/tensorflow/python/ops/math_grad.py:1250: add_dispatch_support.<locals>.wrapper (from tensorflow.python.ops.array_ops) is deprecated and will be removed in a future version.\n",
      "Instructions for updating:\n",
      "Use tf.where in 2.0, which has the same broadcast rule as np.where\n",
      "Train on 579 samples, validate on 145 samples\n",
      "Epoch 1/50\n",
      "579/579 [==============================] - 44s 76ms/step - loss: 0.2763 - accuracy: 0.8864 - val_loss: 0.8171 - val_accuracy: 0.6552\n",
      "Epoch 2/50\n",
      "579/579 [==============================] - 20s 34ms/step - loss: 0.0690 - accuracy: 0.9823 - val_loss: 0.9523 - val_accuracy: 0.6552\n",
      "Epoch 3/50\n",
      "579/579 [==============================] - 20s 34ms/step - loss: 0.0317 - accuracy: 0.9918 - val_loss: 1.0716 - val_accuracy: 0.6552\n",
      "Epoch 4/50\n",
      "579/579 [==============================] - 20s 34ms/step - loss: 0.0214 - accuracy: 0.9957 - val_loss: 0.8378 - val_accuracy: 0.6690\n",
      "Epoch 5/50\n",
      "579/579 [==============================] - 20s 34ms/step - loss: 0.0114 - accuracy: 0.9987 - val_loss: 0.6382 - val_accuracy: 0.7948\n",
      "Epoch 6/50\n",
      "579/579 [==============================] - 20s 34ms/step - loss: 0.0095 - accuracy: 0.9970 - val_loss: 0.5438 - val_accuracy: 0.8000\n",
      "Epoch 7/50\n",
      "579/579 [==============================] - 20s 34ms/step - loss: 0.0074 - accuracy: 0.9996 - val_loss: 0.2460 - val_accuracy: 0.9052\n",
      "Epoch 8/50\n",
      "579/579 [==============================] - 20s 35ms/step - loss: 0.0071 - accuracy: 0.9987 - val_loss: 0.0359 - val_accuracy: 0.9828\n",
      "Epoch 9/50\n",
      "579/579 [==============================] - 20s 34ms/step - loss: 0.0039 - accuracy: 0.9996 - val_loss: 0.0408 - val_accuracy: 0.9862\n",
      "Epoch 10/50\n",
      "579/579 [==============================] - 20s 34ms/step - loss: 0.0027 - accuracy: 1.0000 - val_loss: 0.0284 - val_accuracy: 0.9897\n",
      "Epoch 11/50\n",
      "579/579 [==============================] - 20s 34ms/step - loss: 0.0041 - accuracy: 0.9996 - val_loss: 0.0266 - val_accuracy: 0.9897\n",
      "Epoch 12/50\n",
      "579/579 [==============================] - 20s 34ms/step - loss: 0.0029 - accuracy: 0.9996 - val_loss: 0.0171 - val_accuracy: 0.9897\n",
      "Epoch 13/50\n",
      "579/579 [==============================] - 20s 34ms/step - loss: 0.0033 - accuracy: 0.9991 - val_loss: 0.0346 - val_accuracy: 0.9914\n",
      "Epoch 14/50\n",
      "579/579 [==============================] - 20s 34ms/step - loss: 0.0016 - accuracy: 1.0000 - val_loss: 0.0207 - val_accuracy: 0.9862\n",
      "Epoch 15/50\n",
      "579/579 [==============================] - 20s 34ms/step - loss: 0.0014 - accuracy: 1.0000 - val_loss: 0.0196 - val_accuracy: 0.9897\n",
      "Epoch 16/50\n",
      "579/579 [==============================] - 20s 34ms/step - loss: 0.0018 - accuracy: 1.0000 - val_loss: 0.0130 - val_accuracy: 0.9948\n",
      "Epoch 17/50\n",
      "579/579 [==============================] - 20s 34ms/step - loss: 0.0019 - accuracy: 1.0000 - val_loss: 0.0352 - val_accuracy: 0.9914\n",
      "Epoch 18/50\n",
      "579/579 [==============================] - 20s 34ms/step - loss: 0.0021 - accuracy: 1.0000 - val_loss: 0.0297 - val_accuracy: 0.9897\n",
      "Epoch 19/50\n",
      "579/579 [==============================] - 20s 34ms/step - loss: 0.0024 - accuracy: 0.9987 - val_loss: 0.0883 - val_accuracy: 0.9776\n",
      "Epoch 20/50\n",
      "579/579 [==============================] - 20s 34ms/step - loss: 0.0040 - accuracy: 0.9991 - val_loss: 0.0488 - val_accuracy: 0.9879\n",
      "Epoch 21/50\n",
      "579/579 [==============================] - 20s 34ms/step - loss: 0.0026 - accuracy: 1.0000 - val_loss: 0.0681 - val_accuracy: 0.9862\n",
      "Epoch 22/50\n",
      "579/579 [==============================] - 20s 34ms/step - loss: 0.0018 - accuracy: 1.0000 - val_loss: 0.0394 - val_accuracy: 0.9897\n",
      "Epoch 23/50\n",
      "579/579 [==============================] - 20s 34ms/step - loss: 0.0019 - accuracy: 1.0000 - val_loss: 0.0495 - val_accuracy: 0.9879\n",
      "Epoch 24/50\n",
      "579/579 [==============================] - 20s 34ms/step - loss: 0.0011 - accuracy: 1.0000 - val_loss: 0.0403 - val_accuracy: 0.9862\n",
      "Epoch 25/50\n",
      "579/579 [==============================] - 20s 34ms/step - loss: 0.0018 - accuracy: 0.9996 - val_loss: 0.0125 - val_accuracy: 0.9948\n",
      "Epoch 26/50\n",
      "579/579 [==============================] - 20s 34ms/step - loss: 9.1729e-04 - accuracy: 1.0000 - val_loss: 0.0236 - val_accuracy: 0.9897\n",
      "Epoch 27/50\n",
      "579/579 [==============================] - 20s 34ms/step - loss: 0.0015 - accuracy: 1.0000 - val_loss: 0.0144 - val_accuracy: 0.9948\n",
      "Epoch 28/50\n",
      "579/579 [==============================] - 20s 34ms/step - loss: 7.4085e-04 - accuracy: 1.0000 - val_loss: 0.0221 - val_accuracy: 0.9897\n",
      "Epoch 29/50\n",
      "579/579 [==============================] - 20s 34ms/step - loss: 6.9377e-04 - accuracy: 1.0000 - val_loss: 0.0282 - val_accuracy: 0.9897\n",
      "Epoch 30/50\n",
      "579/579 [==============================] - 20s 34ms/step - loss: 8.8927e-04 - accuracy: 1.0000 - val_loss: 0.0258 - val_accuracy: 0.9897\n",
      "Epoch 31/50\n",
      "579/579 [==============================] - 20s 34ms/step - loss: 0.0017 - accuracy: 1.0000 - val_loss: 0.0350 - val_accuracy: 0.9897\n",
      "Epoch 32/50\n",
      "579/579 [==============================] - 20s 34ms/step - loss: 9.5687e-04 - accuracy: 1.0000 - val_loss: 0.0303 - val_accuracy: 0.9862\n",
      "Epoch 33/50\n",
      "579/579 [==============================] - 20s 34ms/step - loss: 5.5519e-04 - accuracy: 1.0000 - val_loss: 0.0307 - val_accuracy: 0.9862\n",
      "Epoch 34/50\n",
      "579/579 [==============================] - 20s 34ms/step - loss: 0.0015 - accuracy: 1.0000 - val_loss: 0.0303 - val_accuracy: 0.9897\n",
      "Epoch 35/50\n",
      "579/579 [==============================] - 20s 34ms/step - loss: 0.0015 - accuracy: 1.0000 - val_loss: 0.0327 - val_accuracy: 0.9914\n",
      "Epoch 36/50\n",
      "579/579 [==============================] - 20s 34ms/step - loss: 5.1089e-04 - accuracy: 1.0000 - val_loss: 0.0339 - val_accuracy: 0.9862\n",
      "Epoch 37/50\n",
      "579/579 [==============================] - 20s 34ms/step - loss: 0.0017 - accuracy: 1.0000 - val_loss: 0.0328 - val_accuracy: 0.9897\n",
      "Epoch 38/50\n",
      "579/579 [==============================] - 20s 34ms/step - loss: 6.2781e-04 - accuracy: 1.0000 - val_loss: 0.0303 - val_accuracy: 0.9862\n",
      "Epoch 39/50\n",
      "579/579 [==============================] - 20s 34ms/step - loss: 4.0898e-04 - accuracy: 1.0000 - val_loss: 0.0284 - val_accuracy: 0.9862\n",
      "Epoch 40/50\n",
      "579/579 [==============================] - 20s 34ms/step - loss: 6.3534e-04 - accuracy: 1.0000 - val_loss: 0.0307 - val_accuracy: 0.9862\n"
     ]
    }
   ],
   "source": [
    "cb_early_stopping = EarlyStopping(monitor='val_loss', patience=15)\n",
    "hist = front_model.fit(np.array(blendedImage), y_train, epochs=50, callbacks=[cb_early_stopping], batch_size=4,  validation_split=0.2)"
   ]
  },
  {
   "cell_type": "code",
   "execution_count": 19,
   "metadata": {},
   "outputs": [
    {
     "name": "stdout",
     "output_type": "stream",
     "text": [
      "Model: \"sequential_1\"\n",
      "_________________________________________________________________\n",
      "Layer (type)                 Output Shape              Param #   \n",
      "=================================================================\n",
      "conv2d_1 (Conv2D)            (None, 256, 256, 8)       520       \n",
      "_________________________________________________________________\n",
      "max_pooling2d_1 (MaxPooling2 (None, 128, 128, 8)       0         \n",
      "_________________________________________________________________\n",
      "dropout_1 (Dropout)          (None, 128, 128, 8)       0         \n",
      "_________________________________________________________________\n",
      "conv2d_2 (Conv2D)            (None, 128, 128, 16)      8208      \n",
      "_________________________________________________________________\n",
      "max_pooling2d_2 (MaxPooling2 (None, 64, 64, 16)        0         \n",
      "_________________________________________________________________\n",
      "dropout_2 (Dropout)          (None, 64, 64, 16)        0         \n",
      "_________________________________________________________________\n",
      "conv2d_3 (Conv2D)            (None, 64, 64, 32)        32800     \n",
      "_________________________________________________________________\n",
      "max_pooling2d_3 (MaxPooling2 (None, 32, 32, 32)        0         \n",
      "_________________________________________________________________\n",
      "dropout_3 (Dropout)          (None, 32, 32, 32)        0         \n",
      "_________________________________________________________________\n",
      "flatten_1 (Flatten)          (None, 32768)             0         \n",
      "_________________________________________________________________\n",
      "dense_1 (Dense)              (None, 32)                1048608   \n",
      "_________________________________________________________________\n",
      "dropout_4 (Dropout)          (None, 32)                0         \n",
      "_________________________________________________________________\n",
      "dense_2 (Dense)              (None, 4)                 132       \n",
      "=================================================================\n",
      "Total params: 1,090,268\n",
      "Trainable params: 1,090,268\n",
      "Non-trainable params: 0\n",
      "_________________________________________________________________\n"
     ]
    }
   ],
   "source": [
    "#DCNN\n",
    "def cnn(size):\n",
    "    KERNEL = (8,8)\n",
    "    shape = (size[0], size[1], size[2])\n",
    "    \n",
    "    # Define Model\n",
    "    model = Sequential()\n",
    "    \n",
    "    # Add Convolution 1\n",
    "    model.add(Conv2D(filters=8, kernel_size=KERNEL, activation='relu', input_shape=shape, padding='same'))\n",
    "    \n",
    "    # Add Max Pooling\n",
    "    model.add(MaxPooling2D(pool_size=(2,2)))\n",
    "    model.add(Dropout(0.25))\n",
    "    \n",
    "    # Add Convolution 2\n",
    "    model.add(Conv2D(filters=16, kernel_size=KERNEL, activation='relu', input_shape=shape, padding='same'))\n",
    "    \n",
    "    # Add Max Pooling\n",
    "    model.add(MaxPooling2D(pool_size=(2,2)))\n",
    "    model.add(Dropout(0.25))\n",
    "    \n",
    "    # Add Convolution 3\n",
    "    model.add(Conv2D(filters=32, kernel_size=KERNEL, activation='relu', input_shape=shape, padding='same'))\n",
    "    \n",
    "    # Add Max Pooling\n",
    "    model.add(MaxPooling2D(pool_size=(2,2)))\n",
    "    model.add(Dropout(0.25))\n",
    "    model.add(Flatten())\n",
    "    model.add(Dense(units=32, activation='relu'))\n",
    "    \n",
    "    # Add Output Layer\n",
    "    model.add(Dropout(0.5))\n",
    "    model.add(Dense(units=4, activation='softmax'))\n",
    "    \n",
    "    # Compile the model\n",
    "    model.compile(loss='categorical_crossentropy', optimizer=Adadelta(), metrics=['accuracy'])\n",
    "    model.summary()\n",
    "    \n",
    "    return model\n",
    "\n",
    "model = cnn(size=blendedImage.shape[1:])"
   ]
  },
  {
   "cell_type": "code",
   "execution_count": null,
   "metadata": {},
   "outputs": [],
   "source": [
    "datagen = ImageDataGenerator(rotation_range=5,horizontal_flip=True)\n",
    "datagen.fit(blendedImage)\n",
    "model.fit_generator(datagen.flow(blendedImage, y_train, batch_size=4), steps_per_epoch=300, epochs=100, validation_data=(x_val, y_val))"
   ]
  },
  {
   "cell_type": "code",
   "execution_count": null,
   "metadata": {},
   "outputs": [],
   "source": [
    "cb_early_stopping = EarlyStopping(monitor='val_loss', patience=10)"
   ]
  },
  {
   "cell_type": "code",
   "execution_count": 20,
   "metadata": {},
   "outputs": [
    {
     "name": "stdout",
     "output_type": "stream",
     "text": [
      "Train on 570 samples, validate on 80 samples\n",
      "Epoch 1/50\n",
      "570/570 [==============================] - 4s 6ms/step - loss: 1.4040 - accuracy: 0.2754 - val_loss: 1.3786 - val_accuracy: 0.2375\n",
      "Epoch 2/50\n",
      "570/570 [==============================] - 2s 4ms/step - loss: 1.2999 - accuracy: 0.4719 - val_loss: 1.0710 - val_accuracy: 0.5250\n",
      "Epoch 3/50\n",
      "570/570 [==============================] - 2s 4ms/step - loss: 0.8531 - accuracy: 0.6982 - val_loss: 0.6197 - val_accuracy: 0.8125\n",
      "Epoch 4/50\n",
      "570/570 [==============================] - 2s 4ms/step - loss: 0.6595 - accuracy: 0.7667 - val_loss: 0.5142 - val_accuracy: 0.8625\n",
      "Epoch 5/50\n",
      "570/570 [==============================] - 2s 4ms/step - loss: 0.5122 - accuracy: 0.7930 - val_loss: 0.3265 - val_accuracy: 0.9250\n",
      "Epoch 6/50\n",
      "570/570 [==============================] - 2s 4ms/step - loss: 0.4800 - accuracy: 0.8386 - val_loss: 0.3178 - val_accuracy: 0.9125\n",
      "Epoch 7/50\n",
      "570/570 [==============================] - 2s 4ms/step - loss: 0.4188 - accuracy: 0.8596 - val_loss: 0.3431 - val_accuracy: 0.9000\n",
      "Epoch 8/50\n",
      "570/570 [==============================] - 2s 4ms/step - loss: 0.3902 - accuracy: 0.8526 - val_loss: 0.2878 - val_accuracy: 0.9250\n",
      "Epoch 9/50\n",
      "570/570 [==============================] - 2s 4ms/step - loss: 0.3676 - accuracy: 0.8614 - val_loss: 0.2854 - val_accuracy: 0.9250\n",
      "Epoch 10/50\n",
      "570/570 [==============================] - 2s 4ms/step - loss: 0.3600 - accuracy: 0.8456 - val_loss: 0.1786 - val_accuracy: 0.9500\n",
      "Epoch 11/50\n",
      "570/570 [==============================] - 2s 4ms/step - loss: 0.3794 - accuracy: 0.8614 - val_loss: 0.2356 - val_accuracy: 0.9250\n",
      "Epoch 12/50\n",
      "570/570 [==============================] - 2s 4ms/step - loss: 0.3608 - accuracy: 0.8614 - val_loss: 0.1771 - val_accuracy: 0.9500\n",
      "Epoch 13/50\n",
      "570/570 [==============================] - 2s 4ms/step - loss: 0.3059 - accuracy: 0.9000 - val_loss: 0.1641 - val_accuracy: 0.9500\n",
      "Epoch 14/50\n",
      "570/570 [==============================] - 2s 4ms/step - loss: 0.3372 - accuracy: 0.8895 - val_loss: 0.1746 - val_accuracy: 0.9500\n",
      "Epoch 15/50\n",
      "570/570 [==============================] - 2s 4ms/step - loss: 0.3116 - accuracy: 0.8860 - val_loss: 0.2564 - val_accuracy: 0.9375\n",
      "Epoch 16/50\n",
      "570/570 [==============================] - 2s 4ms/step - loss: 0.2728 - accuracy: 0.9053 - val_loss: 0.0884 - val_accuracy: 0.9625\n",
      "Epoch 17/50\n",
      "570/570 [==============================] - 2s 4ms/step - loss: 0.3063 - accuracy: 0.8877 - val_loss: 0.1717 - val_accuracy: 0.9375\n",
      "Epoch 18/50\n",
      "570/570 [==============================] - 2s 4ms/step - loss: 0.2735 - accuracy: 0.8842 - val_loss: 0.1073 - val_accuracy: 0.9625\n",
      "Epoch 19/50\n",
      "570/570 [==============================] - 2s 4ms/step - loss: 0.2228 - accuracy: 0.9088 - val_loss: 0.1414 - val_accuracy: 0.9625\n",
      "Epoch 20/50\n",
      "570/570 [==============================] - 2s 4ms/step - loss: 0.2618 - accuracy: 0.8965 - val_loss: 0.1040 - val_accuracy: 0.9625\n",
      "Epoch 21/50\n",
      "570/570 [==============================] - 2s 4ms/step - loss: 0.2399 - accuracy: 0.8930 - val_loss: 0.0951 - val_accuracy: 0.9625\n",
      "Epoch 22/50\n",
      "570/570 [==============================] - 2s 4ms/step - loss: 0.2367 - accuracy: 0.8982 - val_loss: 0.1026 - val_accuracy: 0.9750\n",
      "Epoch 23/50\n",
      "570/570 [==============================] - 2s 4ms/step - loss: 0.2672 - accuracy: 0.8754 - val_loss: 0.1001 - val_accuracy: 0.9750\n",
      "Epoch 24/50\n",
      "570/570 [==============================] - 2s 4ms/step - loss: 0.3177 - accuracy: 0.8737 - val_loss: 0.1392 - val_accuracy: 0.9750\n",
      "Epoch 25/50\n",
      "570/570 [==============================] - 2s 4ms/step - loss: 0.2604 - accuracy: 0.8930 - val_loss: 0.0697 - val_accuracy: 0.9750\n",
      "Epoch 26/50\n",
      "570/570 [==============================] - 2s 4ms/step - loss: 0.2188 - accuracy: 0.9140 - val_loss: 0.1222 - val_accuracy: 0.9750\n",
      "Epoch 27/50\n",
      "570/570 [==============================] - 2s 4ms/step - loss: 0.2453 - accuracy: 0.9000 - val_loss: 0.1114 - val_accuracy: 0.9625\n",
      "Epoch 28/50\n",
      "570/570 [==============================] - 2s 4ms/step - loss: 0.2290 - accuracy: 0.8982 - val_loss: 0.1368 - val_accuracy: 0.9750\n",
      "Epoch 29/50\n",
      "570/570 [==============================] - 2s 4ms/step - loss: 0.2235 - accuracy: 0.9140 - val_loss: 0.0609 - val_accuracy: 0.9875\n",
      "Epoch 30/50\n",
      "570/570 [==============================] - 2s 4ms/step - loss: 0.2486 - accuracy: 0.8982 - val_loss: 0.1120 - val_accuracy: 0.9625\n",
      "Epoch 31/50\n",
      "570/570 [==============================] - 2s 4ms/step - loss: 0.1663 - accuracy: 0.9351 - val_loss: 0.0490 - val_accuracy: 0.9875\n",
      "Epoch 32/50\n",
      "570/570 [==============================] - 2s 4ms/step - loss: 0.2181 - accuracy: 0.9088 - val_loss: 0.0765 - val_accuracy: 0.9875\n",
      "Epoch 33/50\n",
      "570/570 [==============================] - 2s 4ms/step - loss: 0.2162 - accuracy: 0.9053 - val_loss: 0.0271 - val_accuracy: 0.9875\n",
      "Epoch 34/50\n",
      "570/570 [==============================] - 2s 4ms/step - loss: 0.1749 - accuracy: 0.9263 - val_loss: 0.0440 - val_accuracy: 0.9875\n",
      "Epoch 35/50\n",
      "570/570 [==============================] - 2s 4ms/step - loss: 0.2223 - accuracy: 0.9053 - val_loss: 0.1362 - val_accuracy: 0.9500\n",
      "Epoch 36/50\n",
      "570/570 [==============================] - 2s 4ms/step - loss: 0.1987 - accuracy: 0.9088 - val_loss: 0.0913 - val_accuracy: 0.9750\n",
      "Epoch 37/50\n",
      "570/570 [==============================] - 2s 4ms/step - loss: 0.1858 - accuracy: 0.9228 - val_loss: 0.0192 - val_accuracy: 1.0000\n",
      "Epoch 38/50\n",
      "570/570 [==============================] - 2s 4ms/step - loss: 0.1913 - accuracy: 0.9246 - val_loss: 0.0087 - val_accuracy: 1.0000\n",
      "Epoch 39/50\n",
      "570/570 [==============================] - 2s 4ms/step - loss: 0.1816 - accuracy: 0.9263 - val_loss: 0.0682 - val_accuracy: 0.9750\n",
      "Epoch 40/50\n",
      "570/570 [==============================] - 2s 4ms/step - loss: 0.1997 - accuracy: 0.9175 - val_loss: 0.0199 - val_accuracy: 1.0000\n",
      "Epoch 41/50\n",
      "570/570 [==============================] - 2s 4ms/step - loss: 0.1816 - accuracy: 0.9211 - val_loss: 0.0159 - val_accuracy: 1.0000\n",
      "Epoch 42/50\n",
      "570/570 [==============================] - 2s 4ms/step - loss: 0.2001 - accuracy: 0.9263 - val_loss: 0.1385 - val_accuracy: 0.9625\n",
      "Epoch 43/50\n",
      "570/570 [==============================] - 2s 4ms/step - loss: 0.1543 - accuracy: 0.9509 - val_loss: 0.0289 - val_accuracy: 0.9875\n",
      "Epoch 44/50\n",
      "570/570 [==============================] - 2s 4ms/step - loss: 0.1073 - accuracy: 0.9596 - val_loss: 0.1722 - val_accuracy: 0.9375\n",
      "Epoch 45/50\n",
      "570/570 [==============================] - 2s 4ms/step - loss: 0.2145 - accuracy: 0.9175 - val_loss: 0.1435 - val_accuracy: 0.9500\n",
      "Epoch 46/50\n",
      "570/570 [==============================] - 2s 4ms/step - loss: 0.1973 - accuracy: 0.9211 - val_loss: 0.0468 - val_accuracy: 0.9750\n",
      "Epoch 47/50\n",
      "570/570 [==============================] - 2s 4ms/step - loss: 0.1891 - accuracy: 0.9368 - val_loss: 0.0515 - val_accuracy: 0.9750\n",
      "Epoch 48/50\n",
      "570/570 [==============================] - 2s 4ms/step - loss: 0.0999 - accuracy: 0.9579 - val_loss: 0.0443 - val_accuracy: 0.9750\n",
      "Epoch 49/50\n",
      "570/570 [==============================] - 2s 4ms/step - loss: 0.1493 - accuracy: 0.9456 - val_loss: 0.1011 - val_accuracy: 0.9750\n",
      "Epoch 50/50\n",
      "570/570 [==============================] - 2s 4ms/step - loss: 0.1288 - accuracy: 0.9544 - val_loss: 0.0297 - val_accuracy: 0.9875\n"
     ]
    }
   ],
   "source": [
    "### Without Data Augmentation\n",
    "hist = model.fit(blendedImage, y_train, epochs=50, batch_size=4, callbacks=[cb_early_stopping], validation_data=(x_val, y_val))"
   ]
  },
  {
   "cell_type": "code",
   "execution_count": 21,
   "metadata": {},
   "outputs": [],
   "source": [
    "from sklearn.metrics import roc_auc_score, auc, roc_curve\n",
    "\n",
    "# Compute ROC curve and ROC area for each class\n",
    "fpr = dict()\n",
    "tpr = dict()\n",
    "roc_auc = dict()\n",
    "\n",
    "y_score = model.predict_proba(x_test)\n",
    "n_classes = y_test.shape[1]\n",
    "\n",
    "for i in range(n_classes):\n",
    "    fpr[i], tpr[i], _ = roc_curve(y_test[:, i], y_score[:, i])\n",
    "    roc_auc[i] = auc(fpr[i], tpr[i])"
   ]
  },
  {
   "cell_type": "code",
   "execution_count": 22,
   "metadata": {},
   "outputs": [],
   "source": [
    "# Compute micro-average ROC curve and ROC area\n",
    "fpr[\"micro\"], tpr[\"micro\"], _ = roc_curve(y_test.ravel(), y_score.ravel())\n",
    "roc_auc[\"micro\"] = auc(fpr[\"micro\"], tpr[\"micro\"])"
   ]
  },
  {
   "cell_type": "code",
   "execution_count": 23,
   "metadata": {},
   "outputs": [
    {
     "data": {
      "image/png": "[encoded data removed]",
      "text/plain": [
       "<Figure size 432x288 with 1 Axes>"
      ]
     },
     "metadata": {
      "needs_background": "light"
     },
     "output_type": "display_data"
    }
   ],
   "source": [
    "plt.figure()\n",
    "lw = 2\n",
    "plt.plot(fpr[0], tpr[0], color='darkorange',\n",
    "         lw=lw, label='ROC curve (AUC = %0.4f)' % roc_auc[0])\n",
    "plt.plot([0, 1], [0, 1], color='navy', \n",
    "         lw=lw, linestyle='--', label='Random guess')\n",
    "plt.xlim([0.0, 1.0])\n",
    "plt.ylim([0.0, 1.05])\n",
    "plt.xlabel('False positive rate (1-Specificity)', fontsize=12)\n",
    "plt.ylabel('True positive rate (Sensitivity)', fontsize=12)\n",
    "plt.title('13 image classes classification AUROC', fontsize=15)\n",
    "plt.legend(loc=\"lower right\", fontsize=12)\n",
    "\n",
    "fig = plt.gcf()\n",
    "plt.show()"
   ]
  },
  {
   "cell_type": "code",
   "execution_count": 33,
   "metadata": {},
   "outputs": [
    {
     "ename": "NameError",
     "evalue": "name 'model' is not defined",
     "output_type": "error",
     "traceback": [
      "\u001b[0;31m---------------------------------------------------------------------------\u001b[0m",
      "\u001b[0;31mNameError\u001b[0m                                 Traceback (most recent call last)",
      "\u001b[0;32m<ipython-input-33-3bca203addda>\u001b[0m in \u001b[0;36m<module>\u001b[0;34m\u001b[0m\n\u001b[1;32m      1\u001b[0m \u001b[0;31m# 테스트 데이터로 평가하기\u001b[0m\u001b[0;34m\u001b[0m\u001b[0;34m\u001b[0m\u001b[0;34m\u001b[0m\u001b[0m\n\u001b[0;32m----> 2\u001b[0;31m \u001b[0mscore\u001b[0m \u001b[0;34m=\u001b[0m \u001b[0mmodel\u001b[0m\u001b[0;34m.\u001b[0m\u001b[0mevaluate\u001b[0m\u001b[0;34m(\u001b[0m\u001b[0mx_test\u001b[0m\u001b[0;34m,\u001b[0m \u001b[0my_test\u001b[0m\u001b[0;34m,\u001b[0m \u001b[0mverbose\u001b[0m\u001b[0;34m=\u001b[0m\u001b[0;36m1\u001b[0m\u001b[0;34m)\u001b[0m\u001b[0;34m\u001b[0m\u001b[0;34m\u001b[0m\u001b[0m\n\u001b[0m\u001b[1;32m      3\u001b[0m \u001b[0mprint\u001b[0m\u001b[0;34m(\u001b[0m\u001b[0;34m'loss='\u001b[0m\u001b[0;34m,\u001b[0m \u001b[0mscore\u001b[0m\u001b[0;34m[\u001b[0m\u001b[0;36m0\u001b[0m\u001b[0;34m]\u001b[0m\u001b[0;34m)\u001b[0m\u001b[0;34m\u001b[0m\u001b[0;34m\u001b[0m\u001b[0m\n\u001b[1;32m      4\u001b[0m \u001b[0mprint\u001b[0m\u001b[0;34m(\u001b[0m\u001b[0;34m'accuracy='\u001b[0m\u001b[0;34m,\u001b[0m \u001b[0mscore\u001b[0m\u001b[0;34m[\u001b[0m\u001b[0;36m1\u001b[0m\u001b[0;34m]\u001b[0m\u001b[0;34m)\u001b[0m\u001b[0;34m\u001b[0m\u001b[0;34m\u001b[0m\u001b[0m\n",
      "\u001b[0;31mNameError\u001b[0m: name 'model' is not defined"
     ]
    }
   ],
   "source": [
    "# 테스트 데이터로 평가하기\n",
    "score = model.evaluate(x_test, y_test, verbose=1)\n",
    "print('loss=', score[0])\n",
    "print('accuracy=', score[1])"
   ]
  },
  {
   "cell_type": "code",
   "execution_count": 25,
   "metadata": {},
   "outputs": [
    {
     "name": "stdout",
     "output_type": "stream",
     "text": [
      "570\n",
      "80\n",
      "74\n"
     ]
    }
   ],
   "source": [
    "#use model\n",
    "yhat_train=model.predict(blendedImage, batch_size=4)\n",
    "yhat_val=model.predict(x_val, batch_size=4)\n",
    "yhat_test=model.predict(x_test, batch_size=4)\n",
    "print(len(yhat_train))\n",
    "print(len(yhat_val))\n",
    "print(len(yhat_test))"
   ]
  },
  {
   "cell_type": "code",
   "execution_count": 26,
   "metadata": {},
   "outputs": [],
   "source": [
    "prediction=[]\n",
    "for i in yhat_train:\n",
    "    prediction.append(list(i).index(i.max()))\n",
    "for i in yhat_val:\n",
    "    prediction.append(list(i).index(i.max()))\n",
    "for i in yhat_test:\n",
    "    prediction.append(list(i).index(i.max()))"
   ]
  },
  {
   "cell_type": "code",
   "execution_count": 27,
   "metadata": {},
   "outputs": [],
   "source": [
    "df['prediction']=prediction"
   ]
  },
  {
   "cell_type": "code",
   "execution_count": 28,
   "metadata": {},
   "outputs": [],
   "source": [
    "answercount=0\n",
    "for i in range(len(df)):\n",
    "    if df['label'][i]==df['prediction'][i]:\n",
    "        answercount+=1"
   ]
  },
  {
   "cell_type": "code",
   "execution_count": 29,
   "metadata": {},
   "outputs": [
    {
     "data": {
      "text/plain": [
       "719"
      ]
     },
     "execution_count": 29,
     "metadata": {},
     "output_type": "execute_result"
    }
   ],
   "source": [
    "answercount"
   ]
  },
  {
   "cell_type": "code",
   "execution_count": 57,
   "metadata": {},
   "outputs": [
    {
     "data": {
      "text/plain": [
       "<matplotlib.image.AxesImage at 0x7f33afd145c0>"
      ]
     },
     "execution_count": 57,
     "metadata": {},
     "output_type": "execute_result"
    },
    {
     "data": {
      "image/png": "[encoded data removed]",
      "text/plain": [
       "<Figure size 432x288 with 1 Axes>"
      ]
     },
     "metadata": {
      "needs_background": "light"
     },
     "output_type": "display_data"
    }
   ],
   "source": [
    "asdf=pydicom.filereader.dcmread(df['filename'][1]).pixel_array\n",
    "clahe = cv2.createCLAHE(clipLimit=2.0, tileGridSize=(8,8))\n",
    "asdf = clahe.apply(asdf)\n",
    "asdf = cv2.resize(asdf, (224, 224))\n",
    "asdf = cv2.cvtColor(asdf,cv2.COLOR_GRAY2RGB)\n",
    "mean, std = asdf.mean(), asdf.std()\n",
    "asdf =(np.clip((asdf-mean)/std, -2.0, 2.0)+2.0)/4.0\n",
    "plt.imshow(asdf)"
   ]
  },
  {
   "cell_type": "code",
   "execution_count": 60,
   "metadata": {},
   "outputs": [
    {
     "data": {
      "text/plain": [
       "<matplotlib.image.AxesImage at 0x7f33afc85780>"
      ]
     },
     "execution_count": 60,
     "metadata": {},
     "output_type": "execute_result"
    },
    {
     "data": {
      "image/png": "[encoded data removed]",
      "text/plain": [
       "<Figure size 432x288 with 1 Axes>"
      ]
     },
     "metadata": {
      "needs_background": "light"
     },
     "output_type": "display_data"
    }
   ],
   "source": [
    "asdf[asdf >= 0.5] = 1\n",
    "asdf[asdf < 0.5] = 0\n",
    "plt.imshow(asdf)"
   ]
  }
 ],
 "metadata": {
  "kernelspec": {
   "display_name": "Python 3",
   "language": "python",
   "name": "python3"
  },
  "language_info": {
   "codemirror_mode": {
    "name": "ipython",
    "version": 3
   },
   "file_extension": ".py",
   "mimetype": "text/x-python",
   "name": "python",
   "nbconvert_exporter": "python",
   "pygments_lexer": "ipython3",
   "version": "3.7.4"
  }
 },
 "nbformat": 4,
 "nbformat_minor": 4
}
