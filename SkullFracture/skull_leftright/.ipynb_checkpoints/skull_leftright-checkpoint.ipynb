{
 "cells": [
  {
   "cell_type": "code",
   "execution_count": 1,
   "metadata": {},
   "outputs": [
    {
     "name": "stderr",
     "output_type": "stream",
     "text": [
      "Using TensorFlow backend.\n"
     ]
    }
   ],
   "source": [
    "import os\n",
    "import pydicom\n",
    "import matplotlib.pyplot as plt\n",
    "import pandas as pd\n",
    "import numpy as np\n",
    "import cv2\n",
    "import shutil\n",
    "import keras\n",
    "from keras.utils.np_utils import to_categorical\n",
    "from keras.models import Sequential\n",
    "from keras.layers.core import Dense, Dropout, Activation, Flatten\n",
    "from keras.layers.convolutional import Conv2D, MaxPooling2D\n",
    "from keras.optimizers import Adam\n",
    "from keras.utils import np_utils\n",
    "from keras.optimizers import Adadelta\n",
    "from keras.backend import get_session\n",
    "from keras.preprocessing.image import ImageDataGenerator"
   ]
  },
  {
   "cell_type": "code",
   "execution_count": 4,
   "metadata": {},
   "outputs": [],
   "source": [
    "# For left direction skull DICOM\n",
    "leftdir_path = 'E:/segmentationstudy/image/leftdir'\n",
    "leftdir_list = []\n",
    "for (path, dir, files) in os.walk(leftdir_path):\n",
    "    for filename in files:\n",
    "        ext = os.path.splitext(filename)[-1]\n",
    "        if ext == '.dcm':\n",
    "            filePath = \"{0}/{1}\".format(path, filename)\n",
    "            # print(filePath)\n",
    "            leftdir_list.append(filePath)"
   ]
  },
  {
   "cell_type": "code",
   "execution_count": 7,
   "metadata": {},
   "outputs": [],
   "source": [
    "# For right direction skull DICOM\n",
    "rightdir_path = 'E:/segmentationstudy/image/rightdir'\n",
    "rightdir_list = []\n",
    "for (path, dir, files) in os.walk(rightdir_path):\n",
    "    for filename in files:\n",
    "        ext = os.path.splitext(filename)[-1]\n",
    "        if ext == '.dcm':\n",
    "            filePath = \"{0}/{1}\".format(path, filename)\n",
    "            # print(filePath)\n",
    "            rightdir_list.append(filePath)"
   ]
  },
  {
   "cell_type": "code",
   "execution_count": 8,
   "metadata": {},
   "outputs": [
    {
     "name": "stdout",
     "output_type": "stream",
     "text": [
      "101\n",
      "45\n"
     ]
    }
   ],
   "source": [
    "print(len(leftdir_list))\n",
    "print(len(rightdir_list))"
   ]
  },
  {
   "cell_type": "code",
   "execution_count": 10,
   "metadata": {},
   "outputs": [],
   "source": [
    "### Create dataframe\n",
    "# leftdir_list = 0\n",
    "# rightdir_list = 1\n",
    "\n",
    "leftdir_df = pd.DataFrame(data={'filename': leftdir_list, 'label': [0 for i in range(len(leftdir_list))]})\n",
    "rightdir_df = pd.DataFrame(data={'filename': rightdir_list, 'label': [1 for i in range(len(rightdir_list))]})\n",
    "\n",
    "df=leftdir_df.append(rightdir_df)\n",
    "df.columns=['filename', 'label']\n",
    "df=df.sample(frac=1)\n",
    "df.reset_index(drop=True,inplace=True)"
   ]
  },
  {
   "cell_type": "code",
   "execution_count": 13,
   "metadata": {},
   "outputs": [],
   "source": [
    "### One hot encoding of label\n",
    "y_train = np.array(df['label'].tolist())\n",
    "y_train = keras.utils.np_utils.to_categorical(y_train)"
   ]
  },
  {
   "cell_type": "code",
   "execution_count": 16,
   "metadata": {},
   "outputs": [],
   "source": [
    "x_train=[]\n",
    "for i in df['filename']:\n",
    "    pixeldata = pydicom.dcmread(i).pixel_array\n",
    "    pixeldata = cv2.resize(pixeldata, (128, 128))\n",
    "    mean, std = pixeldata.mean(), pixeldata.std()\n",
    "    x_train.append((np.clip((pixeldata-mean)/std, -2.0, 2.0)+2.0)/4.0)\n",
    "x_train=np.array(x_train).reshape(146, 128, 128, 1)"
   ]
  },
  {
   "cell_type": "code",
   "execution_count": 20,
   "metadata": {},
   "outputs": [],
   "source": [
    "x_val=x_train[100:126]\n",
    "y_val=y_train[100:126]\n",
    "x_test=x_train[126:]\n",
    "y_test=y_train[126:]"
   ]
  },
  {
   "cell_type": "code",
   "execution_count": 21,
   "metadata": {},
   "outputs": [],
   "source": [
    "x_train=x_train[:100]\n",
    "y_train=y_train[:100]"
   ]
  },
  {
   "cell_type": "code",
   "execution_count": 23,
   "metadata": {},
   "outputs": [
    {
     "name": "stdout",
     "output_type": "stream",
     "text": [
      "Model: \"sequential_1\"\n",
      "_________________________________________________________________\n",
      "Layer (type)                 Output Shape              Param #   \n",
      "=================================================================\n",
      "conv2d_1 (Conv2D)            (None, 128, 128, 8)       520       \n",
      "_________________________________________________________________\n",
      "max_pooling2d_1 (MaxPooling2 (None, 64, 64, 8)         0         \n",
      "_________________________________________________________________\n",
      "dropout_1 (Dropout)          (None, 64, 64, 8)         0         \n",
      "_________________________________________________________________\n",
      "conv2d_2 (Conv2D)            (None, 64, 64, 16)        8208      \n",
      "_________________________________________________________________\n",
      "max_pooling2d_2 (MaxPooling2 (None, 32, 32, 16)        0         \n",
      "_________________________________________________________________\n",
      "dropout_2 (Dropout)          (None, 32, 32, 16)        0         \n",
      "_________________________________________________________________\n",
      "conv2d_3 (Conv2D)            (None, 32, 32, 32)        32800     \n",
      "_________________________________________________________________\n",
      "max_pooling2d_3 (MaxPooling2 (None, 16, 16, 32)        0         \n",
      "_________________________________________________________________\n",
      "dropout_3 (Dropout)          (None, 16, 16, 32)        0         \n",
      "_________________________________________________________________\n",
      "flatten_1 (Flatten)          (None, 8192)              0         \n",
      "_________________________________________________________________\n",
      "dense_1 (Dense)              (None, 32)                262176    \n",
      "_________________________________________________________________\n",
      "dropout_4 (Dropout)          (None, 32)                0         \n",
      "_________________________________________________________________\n",
      "dense_2 (Dense)              (None, 2)                 66        \n",
      "=================================================================\n",
      "Total params: 303,770\n",
      "Trainable params: 303,770\n",
      "Non-trainable params: 0\n",
      "_________________________________________________________________\n"
     ]
    }
   ],
   "source": [
    "#DCNN\n",
    "def cnn(size):\n",
    "    KERNEL = (8,8)\n",
    "    shape = (size[0], size[1], size[2])\n",
    "    \n",
    "    # Define Model\n",
    "    model = Sequential()\n",
    "    \n",
    "    # Add Convolution 1\n",
    "    model.add(Conv2D(filters=8, kernel_size=KERNEL, activation='relu', input_shape=shape, padding='same'))\n",
    "    \n",
    "    # Add Max Pooling\n",
    "    model.add(MaxPooling2D(pool_size=(2,2)))\n",
    "    model.add(Dropout(0.25))\n",
    "    \n",
    "    # Add Convolution 2\n",
    "    model.add(Conv2D(filters=16, kernel_size=KERNEL, activation='relu', input_shape=shape, padding='same'))\n",
    "    \n",
    "    # Add Max Pooling\n",
    "    model.add(MaxPooling2D(pool_size=(2,2)))\n",
    "    model.add(Dropout(0.25))\n",
    "    \n",
    "    # Add Convolution 3\n",
    "    model.add(Conv2D(filters=32, kernel_size=KERNEL, activation='relu', input_shape=shape, padding='same'))\n",
    "    \n",
    "    # Add Max Pooling\n",
    "    model.add(MaxPooling2D(pool_size=(2,2)))\n",
    "    model.add(Dropout(0.25))\n",
    "    model.add(Flatten())\n",
    "    model.add(Dense(units=32, activation='relu'))\n",
    "    \n",
    "    # Add Output Layer\n",
    "    model.add(Dropout(0.5))\n",
    "    model.add(Dense(units=2, activation='softmax'))\n",
    "    \n",
    "    # Compile the model\n",
    "    model.compile(loss='binary_crossentropy', optimizer=Adadelta(), metrics=['accuracy'])\n",
    "    model.summary()\n",
    "    \n",
    "    return model\n",
    "\n",
    "model = cnn(size=x_train.shape[1:])"
   ]
  },
  {
   "cell_type": "code",
   "execution_count": 26,
   "metadata": {},
   "outputs": [
    {
     "name": "stdout",
     "output_type": "stream",
     "text": [
      "WARNING:tensorflow:From C:\\Users\\ABMI\\Anaconda3\\lib\\site-packages\\tensorflow_core\\python\\ops\\math_grad.py:1424: where (from tensorflow.python.ops.array_ops) is deprecated and will be removed in a future version.\n",
      "Instructions for updating:\n",
      "Use tf.where in 2.0, which has the same broadcast rule as np.where\n",
      "Train on 100 samples, validate on 26 samples\n",
      "Epoch 1/50\n",
      "100/100 [==============================] - 3s 26ms/step - loss: 0.9133 - accuracy: 0.6800 - val_loss: 0.5940 - val_accuracy: 0.6923\n",
      "Epoch 2/50\n",
      "100/100 [==============================] - 2s 21ms/step - loss: 0.5586 - accuracy: 0.7200 - val_loss: 0.5604 - val_accuracy: 0.6923\n",
      "Epoch 3/50\n",
      "100/100 [==============================] - 2s 20ms/step - loss: 0.5341 - accuracy: 0.7500 - val_loss: 0.5362 - val_accuracy: 1.0000\n",
      "Epoch 4/50\n",
      "100/100 [==============================] - 2s 19ms/step - loss: 0.4312 - accuracy: 0.8400 - val_loss: 0.3314 - val_accuracy: 1.0000\n",
      "Epoch 5/50\n",
      "100/100 [==============================] - 2s 19ms/step - loss: 0.2679 - accuracy: 0.8300 - val_loss: 0.2336 - val_accuracy: 1.0000\n",
      "Epoch 6/50\n",
      "100/100 [==============================] - 2s 20ms/step - loss: 0.2117 - accuracy: 0.9100 - val_loss: 0.1315 - val_accuracy: 1.0000\n",
      "Epoch 7/50\n",
      "100/100 [==============================] - 2s 20ms/step - loss: 0.2637 - accuracy: 0.9300 - val_loss: 0.2292 - val_accuracy: 0.9615\n",
      "Epoch 8/50\n",
      "100/100 [==============================] - 2s 19ms/step - loss: 0.2274 - accuracy: 0.9200 - val_loss: 0.0800 - val_accuracy: 1.0000\n",
      "Epoch 9/50\n",
      "100/100 [==============================] - 2s 21ms/step - loss: 0.1053 - accuracy: 0.9600 - val_loss: 0.0643 - val_accuracy: 1.0000\n",
      "Epoch 10/50\n",
      "100/100 [==============================] - 2s 20ms/step - loss: 0.1223 - accuracy: 0.9600 - val_loss: 0.0330 - val_accuracy: 1.0000\n",
      "Epoch 11/50\n",
      "100/100 [==============================] - 2s 23ms/step - loss: 0.1378 - accuracy: 0.9300 - val_loss: 0.0326 - val_accuracy: 1.0000\n",
      "Epoch 12/50\n",
      "100/100 [==============================] - 3s 26ms/step - loss: 0.0540 - accuracy: 0.9600 - val_loss: 0.0075 - val_accuracy: 1.0000\n",
      "Epoch 13/50\n",
      "100/100 [==============================] - 3s 29ms/step - loss: 0.1022 - accuracy: 0.9400 - val_loss: 0.0054 - val_accuracy: 1.0000\n",
      "Epoch 14/50\n",
      "100/100 [==============================] - 2s 20ms/step - loss: 0.1786 - accuracy: 0.9400 - val_loss: 0.0397 - val_accuracy: 1.0000\n",
      "Epoch 15/50\n",
      "100/100 [==============================] - 2s 20ms/step - loss: 0.0709 - accuracy: 0.9800 - val_loss: 0.0399 - val_accuracy: 1.0000\n",
      "Epoch 16/50\n",
      "100/100 [==============================] - 2s 20ms/step - loss: 0.0345 - accuracy: 0.9900 - val_loss: 6.7675e-04 - val_accuracy: 1.0000\n",
      "Epoch 17/50\n",
      "100/100 [==============================] - 2s 21ms/step - loss: 0.0281 - accuracy: 0.9900 - val_loss: 0.0011 - val_accuracy: 1.0000\n",
      "Epoch 18/50\n",
      "100/100 [==============================] - 2s 20ms/step - loss: 0.0376 - accuracy: 0.9900 - val_loss: 0.0015 - val_accuracy: 1.0000\n",
      "Epoch 19/50\n",
      "100/100 [==============================] - 2s 20ms/step - loss: 0.0206 - accuracy: 0.9900 - val_loss: 2.1475e-04 - val_accuracy: 1.0000\n",
      "Epoch 20/50\n",
      "100/100 [==============================] - 2s 20ms/step - loss: 0.0328 - accuracy: 0.9800 - val_loss: 2.0210e-05 - val_accuracy: 1.0000\n",
      "Epoch 21/50\n",
      "100/100 [==============================] - 2s 20ms/step - loss: 0.0660 - accuracy: 0.9900 - val_loss: 0.0018 - val_accuracy: 1.0000\n",
      "Epoch 22/50\n",
      "100/100 [==============================] - 2s 19ms/step - loss: 0.0088 - accuracy: 1.0000 - val_loss: 6.4485e-05 - val_accuracy: 1.0000\n",
      "Epoch 23/50\n",
      "100/100 [==============================] - 2s 20ms/step - loss: 0.0290 - accuracy: 0.9900 - val_loss: 8.1488e-06 - val_accuracy: 1.0000\n",
      "Epoch 24/50\n",
      "100/100 [==============================] - 2s 20ms/step - loss: 7.3733e-04 - accuracy: 1.0000 - val_loss: 2.9573e-06 - val_accuracy: 1.0000\n",
      "Epoch 25/50\n",
      "100/100 [==============================] - 2s 21ms/step - loss: 0.0821 - accuracy: 0.9800 - val_loss: 2.9237e-04 - val_accuracy: 1.0000\n",
      "Epoch 26/50\n",
      "100/100 [==============================] - 2s 20ms/step - loss: 0.0201 - accuracy: 0.9900 - val_loss: 6.3458e-04 - val_accuracy: 1.0000\n",
      "Epoch 27/50\n",
      "100/100 [==============================] - 2s 20ms/step - loss: 0.0665 - accuracy: 0.9800 - val_loss: 9.4478e-04 - val_accuracy: 1.0000\n",
      "Epoch 28/50\n",
      "100/100 [==============================] - 2s 20ms/step - loss: 0.0257 - accuracy: 0.9800 - val_loss: 2.3768e-04 - val_accuracy: 1.0000\n",
      "Epoch 29/50\n",
      "100/100 [==============================] - 2s 20ms/step - loss: 0.0037 - accuracy: 1.0000 - val_loss: 5.6442e-05 - val_accuracy: 1.0000\n",
      "Epoch 30/50\n",
      "100/100 [==============================] - 2s 19ms/step - loss: 0.0271 - accuracy: 1.0000 - val_loss: 4.6945e-05 - val_accuracy: 1.0000\n",
      "Epoch 31/50\n",
      "100/100 [==============================] - 2s 20ms/step - loss: 0.0125 - accuracy: 0.9900 - val_loss: 2.1132e-04 - val_accuracy: 1.0000\n",
      "Epoch 32/50\n",
      "100/100 [==============================] - 2s 20ms/step - loss: 0.0037 - accuracy: 1.0000 - val_loss: 7.7257e-05 - val_accuracy: 1.0000\n",
      "Epoch 33/50\n",
      "100/100 [==============================] - 2s 20ms/step - loss: 0.0014 - accuracy: 1.0000 - val_loss: 4.7684e-07 - val_accuracy: 1.0000\n",
      "Epoch 34/50\n",
      "100/100 [==============================] - 2s 20ms/step - loss: 0.0037 - accuracy: 1.0000 - val_loss: 1.8936e-06 - val_accuracy: 1.0000\n",
      "Epoch 35/50\n",
      "100/100 [==============================] - 2s 20ms/step - loss: 0.0353 - accuracy: 0.9900 - val_loss: 1.9648e-05 - val_accuracy: 1.0000\n",
      "Epoch 36/50\n",
      "100/100 [==============================] - 2s 19ms/step - loss: 0.0041 - accuracy: 1.0000 - val_loss: 7.2071e-06 - val_accuracy: 1.0000\n",
      "Epoch 37/50\n",
      "100/100 [==============================] - 2s 20ms/step - loss: 0.0382 - accuracy: 0.9800 - val_loss: 4.3360e-05 - val_accuracy: 1.0000\n",
      "Epoch 38/50\n",
      "100/100 [==============================] - 2s 20ms/step - loss: 3.2753e-04 - accuracy: 1.0000 - val_loss: 3.7604e-05 - val_accuracy: 1.0000\n",
      "Epoch 39/50\n",
      "100/100 [==============================] - 2s 19ms/step - loss: 0.0074 - accuracy: 1.0000 - val_loss: 1.3647e-05 - val_accuracy: 1.0000\n",
      "Epoch 40/50\n",
      "100/100 [==============================] - ETA: 0s - loss: 0.0117 - accuracy: 1.00 - 2s 20ms/step - loss: 0.0116 - accuracy: 1.0000 - val_loss: 1.8340e-08 - val_accuracy: 1.0000\n",
      "Epoch 41/50\n",
      "100/100 [==============================] - 2s 21ms/step - loss: 0.0566 - accuracy: 0.9900 - val_loss: 1.2089e-04 - val_accuracy: 1.0000\n",
      "Epoch 42/50\n",
      "100/100 [==============================] - 2s 19ms/step - loss: 3.0654e-04 - accuracy: 1.0000 - val_loss: 9.7152e-05 - val_accuracy: 1.0000\n",
      "Epoch 43/50\n",
      "100/100 [==============================] - 2s 20ms/step - loss: 4.9695e-05 - accuracy: 1.0000 - val_loss: 1.5911e-05 - val_accuracy: 1.0000\n",
      "Epoch 44/50\n",
      "100/100 [==============================] - 2s 20ms/step - loss: 0.0113 - accuracy: 0.9900 - val_loss: 4.8183e-04 - val_accuracy: 1.0000\n",
      "Epoch 45/50\n",
      "100/100 [==============================] - 2s 20ms/step - loss: 0.0065 - accuracy: 1.0000 - val_loss: 1.3862e-05 - val_accuracy: 1.0000\n",
      "Epoch 46/50\n",
      "100/100 [==============================] - 2s 20ms/step - loss: 0.0015 - accuracy: 1.0000 - val_loss: 1.2528e-05 - val_accuracy: 1.0000\n",
      "Epoch 47/50\n",
      "100/100 [==============================] - 2s 20ms/step - loss: 6.2338e-04 - accuracy: 1.0000 - val_loss: 3.7138e-07 - val_accuracy: 1.0000\n",
      "Epoch 48/50\n",
      "100/100 [==============================] - 2s 21ms/step - loss: 0.0045 - accuracy: 1.0000 - val_loss: 1.7235e-04 - val_accuracy: 1.0000\n",
      "Epoch 49/50\n",
      "100/100 [==============================] - 2s 21ms/step - loss: 7.3478e-05 - accuracy: 1.0000 - val_loss: 6.8666e-06 - val_accuracy: 1.0000\n",
      "Epoch 50/50\n",
      "100/100 [==============================] - 2s 20ms/step - loss: 3.4546e-04 - accuracy: 1.0000 - val_loss: 6.2315e-06 - val_accuracy: 1.0000\n"
     ]
    }
   ],
   "source": [
    "hist = model.fit(x_train, y_train, epochs=50, batch_size=4,  validation_data=(x_val, y_val))"
   ]
  }
 ],
 "metadata": {
  "kernelspec": {
   "display_name": "Python 3",
   "language": "python",
   "name": "python3"
  },
  "language_info": {
   "codemirror_mode": {
    "name": "ipython",
    "version": 3
   },
   "file_extension": ".py",
   "mimetype": "text/x-python",
   "name": "python",
   "nbconvert_exporter": "python",
   "pygments_lexer": "ipython3",
   "version": "3.7.4"
  }
 },
 "nbformat": 4,
 "nbformat_minor": 2
}
