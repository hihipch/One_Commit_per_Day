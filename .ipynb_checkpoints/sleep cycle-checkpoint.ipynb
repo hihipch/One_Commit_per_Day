{
 "cells": [
  {
   "cell_type": "markdown",
   "metadata": {},
   "source": [
    "# Management of Chul Hyoung Park's sleep cycle\n",
    "## 1. 규칙적인 기상 시간 (주말에도 10시 이전 기상)\n",
    "## 2. 수면 보충하지 않고, 1시 30분 이전에는 침대에 눕지 않기. 수면 효율을 점차 높여가기\n",
    "## 3. 매일 30분 이상의 운동 하기\n",
    "## 4. 낮잠은 오후 4시 이전 45분 이하로 매일 자기\n",
    "## 5. 이완 반응으로 긴장이 완화되게 내버려두어라 (매일 시도하기)\n",
    "### - 눈을 감고 전신의 긴장을 풀기\n",
    "### - 복식 호흡\n",
    "### - 둔감해지기"
   ]
  },
  {
   "cell_type": "markdown",
   "metadata": {},
   "source": [
    "### 60seconds sleep diary"
   ]
  },
  {
   "cell_type": "code",
   "execution_count": 45,
   "metadata": {},
   "outputs": [],
   "source": [
    "import pandas as pd\n",
    "date='2020.05.25'\n",
    "Daily0525 = pd.DataFrame({\"1. 지난 밤 당신은 몇 시에 잠자리에 들었는가?\": ['00:45'],\n",
    "                                 '2. 불을 끈 것은 몇 시였는가?': ['00:45'],\n",
    "                                 '3. 밤중에 대략 몇 번이나 잠에서 깼는가?': [2],\n",
    "                                 '4. 잠이 들 때까지 걸린 시간은?': ['1시간'],\n",
    "                                 '5. 오늘 아침 최종적으로 깬 시간은?': ['08:35'],\n",
    "                                 '6. 잠자리에서 나온 것은 몇 시?': ['08:35'],\n",
    "                                 '7. 간밤에 약 몇 시간 잤나?': ['3시간 30분'],\n",
    "                                 '8. 수면의 질 (1~5)': [1],\n",
    "                                 '9. 복용한 수면제?': ['각 1알 씩'],\n",
    "                                 '10. 수면에 대한 긍정적 생각': ['3시간 잤으니까 됐다. 내일 하루 잘 버티면 앞으로 불면에 대한 두려움이 사라질 것'],\n",
    "                                 '11. 수면에 대한 부정적 생각': ['사업 프로젝트, 학과세미나, 논문 작업, 서울대발표 등 할게 너무 많아서 못 자면 안 된다']})\n",
    "Daily0525=Daily0525.T\n",
    "Daily0525.columns=[date]"
   ]
  },
  {
   "cell_type": "code",
   "execution_count": 49,
   "metadata": {},
   "outputs": [],
   "source": [
    "#Standardized document\n",
    "date='2020.05.26'\n",
    "Daily0526=pd.DataFrame({\"1. 지난 밤 당신은 몇 시에 잠자리에 들었는가?\": ['a'],\n",
    "                 '2. 불을 끈 것은 몇 시였는가?': ['a'],\n",
    "                 '3. 밤중에 대략 몇 번이나 잠에서 깼는가?': [1],\n",
    "                 '4. 잠이 들 때까지 걸린 시간은?': ['a'],\n",
    "                 '5. 오늘 아침 최종적으로 깬 시간은?': ['a'],\n",
    "                 '6. 잠자리에서 나온 것은 몇 시?': ['a'],\n",
    "                 '7. 간밤에 약 몇 시간 잤나?': ['a'],\n",
    "                 '8. 수면의 질 (1~5)': [1],\n",
    "                 '9. 복용한 수면제?': ['a'],\n",
    "                 '10. 수면에 대한 긍정적 생각': ['a'],\n",
    "                 '11. 수면에 대한 부정적 생각': ['a']})\n",
    "Daily0526=Daily0526.T\n",
    "Daily0526.columns=[date]"
   ]
  },
  {
   "cell_type": "code",
   "execution_count": 54,
   "metadata": {},
   "outputs": [],
   "source": [
    "DailyDiary=pd.concat([Daily0525, Daily0526], axis=1)"
   ]
  }
 ],
 "metadata": {
  "kernelspec": {
   "display_name": "Python 3",
   "language": "python",
   "name": "python3"
  },
  "language_info": {
   "codemirror_mode": {
    "name": "ipython",
    "version": 3
   },
   "file_extension": ".py",
   "mimetype": "text/x-python",
   "name": "python",
   "nbconvert_exporter": "python",
   "pygments_lexer": "ipython3",
   "version": "3.7.4"
  }
 },
 "nbformat": 4,
 "nbformat_minor": 2
}
