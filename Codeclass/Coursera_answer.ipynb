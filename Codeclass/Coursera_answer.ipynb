{
 "cells": [
  {
   "cell_type": "code",
   "execution_count": 1,
   "metadata": {},
   "outputs": [
    {
     "name": "stdout",
     "output_type": "stream",
     "text": [
      "Who are you?Eric\n",
      "Welcome! Eric\n"
     ]
    }
   ],
   "source": [
    "nam=input('Who are you?')\n",
    "print('Welcome!' , nam)"
   ]
  },
  {
   "cell_type": "code",
   "execution_count": 2,
   "metadata": {},
   "outputs": [
    {
     "name": "stdout",
     "output_type": "stream",
     "text": [
      "Enter Hours:35\n",
      "Pay: 96.25\n"
     ]
    }
   ],
   "source": [
    "hrs = input(\"Enter Hours:\")\n",
    "print('Pay: '+str(2.75 * float(hrs)))"
   ]
  },
  {
   "cell_type": "code",
   "execution_count": 2,
   "metadata": {},
   "outputs": [
    {
     "name": "stdout",
     "output_type": "stream",
     "text": [
      "Enter hours: 45\n",
      "Enter rate: 10.5\n",
      "498.75\n"
     ]
    }
   ],
   "source": [
    "#5주차\n",
    "hrs=input('Enter hours: ')\n",
    "rate=input('Enter rate: ')\n",
    "h=float(hrs)\n",
    "r=float(rate)\n",
    "if h<=40:\n",
    "    print(h*r)\n",
    "else:\n",
    "    print(40*r+(h-40)*r*1.5)"
   ]
  },
  {
   "cell_type": "code",
   "execution_count": 4,
   "metadata": {},
   "outputs": [
    {
     "name": "stdout",
     "output_type": "stream",
     "text": [
      "Enter Score: 0.85\n",
      "B\n"
     ]
    }
   ],
   "source": [
    "score = input(\"Enter Score: \")\n",
    "s=float(score)\n",
    "if s >=0.9:\n",
    "    print('A')\n",
    "elif s >=0.8:\n",
    "    print('B')\n",
    "elif s >=0.7:\n",
    "    print('C')\n",
    "elif s >=0.6:\n",
    "    print('D')\n",
    "elif s <0.6:\n",
    "    print('F')"
   ]
  },
  {
   "cell_type": "code",
   "execution_count": null,
   "metadata": {},
   "outputs": [],
   "source": []
  }
 ],
 "metadata": {
  "kernelspec": {
   "display_name": "Python 3",
   "language": "python",
   "name": "python3"
  },
  "language_info": {
   "codemirror_mode": {
    "name": "ipython",
    "version": 3
   },
   "file_extension": ".py",
   "mimetype": "text/x-python",
   "name": "python",
   "nbconvert_exporter": "python",
   "pygments_lexer": "ipython3",
   "version": "3.7.4"
  }
 },
 "nbformat": 4,
 "nbformat_minor": 2
}
